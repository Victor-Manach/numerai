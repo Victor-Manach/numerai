{
  "nbformat": 4,
  "nbformat_minor": 0,
  "metadata": {
    "colab": {
      "provenance": [],
      "machine_shape": "hm",
      "gpuType": "T4",
      "mount_file_id": "1Tx_xKA9b0Pfx6bEF90JhfCkuFXri04f2",
      "authorship_tag": "ABX9TyONvbqjvGZAuSLLFMYG2sLa",
      "include_colab_link": true
    },
    "kernelspec": {
      "name": "python3",
      "display_name": "Python 3"
    },
    "language_info": {
      "name": "python"
    },
    "accelerator": "GPU"
  },
  "cells": [
    {
      "cell_type": "markdown",
      "metadata": {
        "id": "view-in-github",
        "colab_type": "text"
      },
      "source": [
        "<a href=\"https://colab.research.google.com/github/Victor-Manach/numerai/blob/main/numerai_rank_mlp.ipynb\" target=\"_parent\"><img src=\"https://colab.research.google.com/assets/colab-badge.svg\" alt=\"Open In Colab\"/></a>"
      ]
    },
    {
      "cell_type": "code",
      "source": [
        "!pip install -q numerapi"
      ],
      "metadata": {
        "id": "_jyKOP6w9uJ0"
      },
      "execution_count": 1,
      "outputs": []
    },
    {
      "cell_type": "code",
      "source": [
        "!pip install -q --no-deps numerai-tools"
      ],
      "metadata": {
        "id": "p7QFmq9M9oMj"
      },
      "execution_count": 2,
      "outputs": []
    },
    {
      "cell_type": "code",
      "source": [
        "from typing import List, Dict, Any, Literal, Optional, Tuple, Callable\n",
        "from pathlib import Path\n",
        "import pandas as pd\n",
        "import json\n",
        "import torch\n",
        "import torch.nn as nn\n",
        "import torch.nn.functional as F\n",
        "import numpy as np\n",
        "from dataclasses import dataclass\n",
        "import math\n",
        "from torch.utils.data import TensorDataset, DataLoader, Dataset, Sampler\n",
        "import time\n",
        "import matplotlib.pyplot as plt\n",
        "import seaborn as sns\n",
        "\n",
        "from numerai_tools.scoring import numerai_corr, correlation_contribution\n",
        "from tqdm.notebook import tqdm\n",
        "\n",
        "import h5py\n",
        "\n",
        "plt.rcParams[\"figure.figsize\"] = (10, 5)"
      ],
      "metadata": {
        "id": "967lWY0-Wj05"
      },
      "execution_count": 3,
      "outputs": []
    },
    {
      "cell_type": "code",
      "source": [
        "path_to_drive = Path('/content/drive/My Drive')"
      ],
      "metadata": {
        "id": "A0WsbcEFWjdI"
      },
      "execution_count": 4,
      "outputs": []
    },
    {
      "cell_type": "code",
      "source": [
        "device = \"cuda\" if torch.cuda.is_available() else \"cpu\"\n",
        "print(f\"{device=}\")"
      ],
      "metadata": {
        "colab": {
          "base_uri": "https://localhost:8080/"
        },
        "id": "v63MVMfibQDK",
        "outputId": "33598858-8722-4b48-81a7-906b953bd4c0"
      },
      "execution_count": 5,
      "outputs": [
        {
          "output_type": "stream",
          "name": "stdout",
          "text": [
            "device='cuda'\n"
          ]
        }
      ]
    },
    {
      "cell_type": "code",
      "execution_count": 6,
      "metadata": {
        "id": "WQQNsJzFWcG7"
      },
      "outputs": [],
      "source": [
        "DATA_VERSION = \"v5.0\"\n",
        "MODEL_NAME = \"RANK_MLP_SMALL\"\n",
        "PATH_TO_DATA = path_to_drive / f\"numerai/data/{DATA_VERSION}\"\n",
        "SKIP_TRAINING = False"
      ]
    },
    {
      "cell_type": "code",
      "source": [
        "features_path = PATH_TO_DATA / \"features.json\"\n",
        "TRAIN_PATH = PATH_TO_DATA / \"train/train_v2.h5\"\n",
        "VALID_PATH = PATH_TO_DATA / \"valid/valid_v2.h5\"\n",
        "\n",
        "MODEL_PATH = path_to_drive / f\"numerai/models\""
      ],
      "metadata": {
        "id": "puFZg1nlWtsM"
      },
      "execution_count": 7,
      "outputs": []
    },
    {
      "cell_type": "code",
      "source": [
        "feature_metadata = json.load(open(features_path))\n",
        "all_target_cols = feature_metadata[\"targets\"]\n",
        "feature_sets = feature_metadata[\"feature_sets\"]\n",
        "\n",
        "sm_feature_set = feature_sets[\"small\"]\n",
        "med_feature_set = feature_sets[\"medium\"]\n",
        "all_feature_set = feature_sets[\"all\"]\n",
        "\n",
        "ERA_COL = \"era\"\n",
        "MAIN_TARGET = \"target\"\n",
        "AUXILIARY_TARGETS = [\n",
        "  \"target_victor_20\",\n",
        "  \"target_xerxes_20\",\n",
        "  \"target_teager2b_20\",\n",
        "  \"target_caroline_20\",\n",
        "  \"target_sam_20\",\n",
        "  \"target_echo_20\",\n",
        "  \"target_alpha_20\",\n",
        "  \"target_jeremy_20\"\n",
        "]\n",
        "\n",
        "feature_set = med_feature_set"
      ],
      "metadata": {
        "id": "UqWtdRgZWz7h"
      },
      "execution_count": 8,
      "outputs": []
    },
    {
      "cell_type": "code",
      "source": [
        "def load_features_id(features_to_use, h5_file):\n",
        "    feature_to_id_file = h5_file.parent / \"feature_to_id.json\"\n",
        "    with open(feature_to_id_file, 'r') as f:\n",
        "        feature_to_id = json.load(f)\n",
        "    features_id = [feature_to_id[f] for f in features_to_use]\n",
        "\n",
        "    return features_id\n",
        "\n",
        "def load_targets_id(targets_to_use, h5_file):\n",
        "    target_to_id_file = h5_file.parent / \"target_to_id.json\"\n",
        "    with open(target_to_id_file, 'r') as f:\n",
        "        target_to_id = json.load(f)\n",
        "    targets_id = [target_to_id[t] for t in targets_to_use]\n",
        "\n",
        "    return targets_id\n",
        "\n",
        "def load_target_id(target_to_use, h5_file):\n",
        "    target_to_id_file = h5_file.parent / \"target_to_id.json\"\n",
        "    with open(target_to_id_file, 'r') as f:\n",
        "        target_to_id = json.load(f)\n",
        "    target_id = target_to_id[target_to_use]\n",
        "\n",
        "    return target_id\n",
        "\n",
        "def load_eras_data(keep_eras, h5_file, target_to_use=None):\n",
        "    if target_to_use is not None:\n",
        "        target_id = load_target_id(target_to_use, h5_file)\n",
        "    else:\n",
        "        target_id = None\n",
        "    era_vector = []\n",
        "    with h5py.File(h5_file, 'r') as f:\n",
        "        era_ix = f['era_index']\n",
        "        idx_list = []\n",
        "        if keep_eras is not None:\n",
        "            for era in keep_eras:\n",
        "                era_key = str(era).zfill(4)\n",
        "                if era_key in era_ix:\n",
        "                    idx_list.append(era_ix[era_key][:])\n",
        "                    era_vector.append([era]*len(era_ix[era_key]))\n",
        "            if idx_list:\n",
        "                indices = np.concatenate(idx_list)\n",
        "            else:\n",
        "                indices = np.array([], dtype=np.int64)\n",
        "            features = f['features'][indices, :]\n",
        "        else:\n",
        "            features = f['features'][:]\n",
        "\n",
        "        if target_id is not None:\n",
        "            if keep_eras is not None:\n",
        "                targets = f['targets'][indices, target_id]\n",
        "            else:\n",
        "                targets = f['targets'][:, target_id]\n",
        "        else:\n",
        "            if keep_eras is not None:\n",
        "                targets = f['targets'][indices, :]\n",
        "            else:\n",
        "                targets = f['targets'][:]\n",
        "\n",
        "    era_vector = np.concatenate(era_vector)\n",
        "    return features, targets, era_vector\n",
        "\n",
        "def load_first_n_eras_data(n, h5_file, target_to_use=None):\n",
        "    if target_to_use is not None:\n",
        "        target_id = load_target_id(target_to_use, h5_file)\n",
        "    else:\n",
        "        target_id = None\n",
        "\n",
        "    era_vector = []\n",
        "    with h5py.File(h5_file, 'r') as f:\n",
        "        era_ix = f['era_index']\n",
        "        era_keys = sorted(list(era_ix.keys()))\n",
        "        first_n_keys = era_keys[:n]\n",
        "        idx_list = []\n",
        "        for era_key in first_n_keys:\n",
        "            idx_list.append(era_ix[era_key][:])\n",
        "            era_vector.append([int(era_key)]*len(era_ix[era_key]))\n",
        "        if idx_list:\n",
        "            indices = np.concatenate(idx_list)\n",
        "        else:\n",
        "            indices = np.array([], dtype=np.int64)\n",
        "        features = f['features'][indices, :]\n",
        "        if target_id is not None:\n",
        "            targets = f['targets'][indices, target_id]\n",
        "        else:\n",
        "            targets = f['targets'][indices, :]\n",
        "\n",
        "    era_vector = np.concatenate(era_vector)\n",
        "    return features, targets, era_vector, [int(e) for e in first_n_keys]\n",
        "\n",
        "\n",
        "def load_eras_data_and_filter_columns(keep_eras, h5_file, features_to_use, target_to_use=None):\n",
        "    features, targets, era_vector = load_eras_data(keep_eras, h5_file, target_to_use)\n",
        "    features_id = load_features_id(features_to_use, h5_file)\n",
        "\n",
        "    return features[:, features_id], targets, era_vector\n",
        "\n",
        "def load_first_n_eras_data_and_filter_columns(n, h5_file, features_to_use, target_to_use=None):\n",
        "    features, targets, era_vector, first_n_eras = load_first_n_eras_data(n, h5_file, target_to_use)\n",
        "    features_id = load_features_id(features_to_use, h5_file)\n",
        "\n",
        "    return features[:, features_id], targets, era_vector, first_n_eras"
      ],
      "metadata": {
        "id": "H9s3DqTG98OG"
      },
      "execution_count": 9,
      "outputs": []
    },
    {
      "cell_type": "code",
      "source": [
        "def worker_init_fn(worker_id):\n",
        "    worker_info = torch.utils.data.get_worker_info()\n",
        "    dataset = worker_info.dataset\n",
        "    dataset.f = h5py.File(dataset.file_path, \"r\")"
      ],
      "metadata": {
        "id": "GU2MIzVAVjyI"
      },
      "execution_count": 10,
      "outputs": []
    },
    {
      "cell_type": "code",
      "source": [
        "class EfficientEraDataset(Dataset):\n",
        "    def __init__(self, file_path, eras, feature_columns, target_to_use, aux_targets=None):\n",
        "        self.file_path = file_path\n",
        "        self.eras = eras\n",
        "        self.feature_columns = feature_columns\n",
        "\n",
        "        self.target_id = load_target_id(target_to_use, self.file_path) if target_to_use is not None else None\n",
        "        self.features_id = load_features_id(self.feature_columns, self.file_path)\n",
        "        self.aux_target_ids = load_targets_id(aux_targets, self.file_path) if aux_targets is not None else None\n",
        "\n",
        "        if self.eras is not None:\n",
        "            self.load_era_indices()\n",
        "        else:\n",
        "            self.load_all_era_indices()\n",
        "\n",
        "        self.sample_indices = []\n",
        "        for era, row_ix_array in self.era_to_indices.items():\n",
        "            for row_ix in row_ix_array:\n",
        "                self.sample_indices.append((era, row_ix))\n",
        "\n",
        "        self.f = None\n",
        "\n",
        "    def load_era_indices(self):\n",
        "        self.era_to_indices = {}\n",
        "        with h5py.File(self.file_path, \"r\") as f:\n",
        "            era_ix_group = f[\"era_index\"]\n",
        "            for era in self.eras:\n",
        "                era_key = str(era).zfill(4)\n",
        "                if era_key in era_ix_group:\n",
        "                    row_indices = era_ix_group[era_key][:]\n",
        "                    self.era_to_indices[era] = row_indices\n",
        "                else:\n",
        "                    print(f\"Did not find era {era} in {self.file_path}\")\n",
        "\n",
        "    def load_all_era_indices(self):\n",
        "        self.era_to_indices = {}\n",
        "        with h5py.File(self.file_path, \"r\") as f:\n",
        "            era_ix_group = f[\"era_index\"]\n",
        "            for era_key in era_ix_group.keys():\n",
        "                era = int(era_key)\n",
        "                row_indices = era_ix_group[era_key][:]\n",
        "                self.era_to_indices[era] = row_indices\n",
        "\n",
        "    def __len__(self):\n",
        "        return len(self.sample_indices)\n",
        "\n",
        "    def __getitem__(self, idx):\n",
        "        era, row_ix = self.sample_indices[idx]\n",
        "\n",
        "        features_np = self.f[\"features\"][row_ix]\n",
        "        features_np = features_np[self.features_id]\n",
        "        features_np = (features_np - 2.0) / 2.0\n",
        "\n",
        "        if self.target_id is not None:\n",
        "            target_np = self.f[\"targets\"][row_ix, self.target_id]\n",
        "        else:\n",
        "            target_np = self.f[\"targets\"][row_ix, :]\n",
        "\n",
        "        if self.aux_target_ids is not None:\n",
        "            aux_targets_np = self.f[\"targets\"][row_ix, :]\n",
        "            aux_targets_np = aux_targets_np[self.aux_target_ids]\n",
        "        else:\n",
        "            aux_targets_np = np.array([], dtype=np.float32)\n",
        "\n",
        "        features = torch.tensor(features_np, dtype=torch.float32)\n",
        "        target = torch.tensor(target_np, dtype=torch.float32)\n",
        "        aux_targets = torch.tensor(aux_targets_np, dtype=torch.float32)\n",
        "\n",
        "        return features, target, aux_targets, era"
      ],
      "metadata": {
        "id": "lWi4YUVnVjyK"
      },
      "execution_count": 11,
      "outputs": []
    },
    {
      "cell_type": "code",
      "source": [
        "class InfiniteDataIterator:\n",
        "    def __init__(self, dataloader, split):\n",
        "        self.dataloader = dataloader\n",
        "        self._iterator = iter(dataloader)\n",
        "        self.split = split\n",
        "\n",
        "    def __iter__(self):\n",
        "        return self\n",
        "\n",
        "    def __next__(self):\n",
        "        try:\n",
        "            return next(self._iterator)\n",
        "        except StopIteration:\n",
        "            print(f\"Restarting data loader ({self.split} split)...\")\n",
        "            self._iterator = iter(self.dataloader)\n",
        "            return next(self._iterator)\n",
        "\n",
        "    def reset(self):\n",
        "        print(f\"Resetting data loader ({self.split} split)...\")\n",
        "        self._iterator = iter(self.dataloader)"
      ],
      "metadata": {
        "id": "PsRZLX3eJLOb"
      },
      "execution_count": 12,
      "outputs": []
    },
    {
      "cell_type": "code",
      "source": [
        "class PairDataset(Dataset):\n",
        "    def __init__(self, features, targets, eras, pair_indices):\n",
        "        self.features = features\n",
        "        self.targets = targets\n",
        "        self.eras = eras\n",
        "        self.pair_indices = pair_indices\n",
        "\n",
        "    def __len__(self):\n",
        "        return len(self.pair_indices)\n",
        "\n",
        "    def __getitem__(self, idx):\n",
        "        i, j = self.pair_indices[idx]\n",
        "        f_i = self.features[i]\n",
        "        f_j = self.features[j]\n",
        "        t_i = self.targets[i]\n",
        "        t_j = self.targets[j]\n",
        "        e_i = self.eras[i]\n",
        "        e_j = self.eras[j]\n",
        "        return f_i, f_j, t_i, t_j, e_i, e_j\n",
        "\n",
        "\n",
        "class SameEraPairSampler(Sampler):\n",
        "    def __init__(self, eras, max_pairs_per_era, shuffle=True, rng_seed=42):\n",
        "        self.eras = eras\n",
        "        self.shuffle = shuffle\n",
        "        self.pairs = []\n",
        "        unique_eras = torch.unique(eras)\n",
        "        rng = np.random.default_rng(rng_seed)\n",
        "\n",
        "        era_to_indices = {}\n",
        "        for e in unique_eras:\n",
        "            era_val = e.item()\n",
        "            idxs = torch.where(eras==e)[0]\n",
        "            era_to_indices[era_val] = idxs.tolist()\n",
        "\n",
        "        for era_val, idxs in era_to_indices.items():\n",
        "            if len(idxs) < 2:\n",
        "                continue\n",
        "            n_pairs = min(max_pairs_per_era, (len(idxs) * (len(idxs) - 1)) // 2)\n",
        "            pairs_for_era = rng.choice(idxs, size=(n_pairs, 2), replace=True)\n",
        "            self.pairs.append(pairs_for_era)\n",
        "\n",
        "        self.pairs = np.vstack(self.pairs)\n",
        "\n",
        "        if shuffle:\n",
        "            rng.shuffle(self.pairs)\n",
        "\n",
        "    def __len__(self):\n",
        "        return len(self.pairs)\n",
        "\n",
        "    def __iter__(self):\n",
        "        for ix in range(len(self.pairs)):\n",
        "            yield ix\n",
        "\n",
        "\n",
        "class MultiEraPairsDataset(Dataset):\n",
        "    def __init__(self, features, targets, eras, max_pairs_per_era, rng_seed=42):\n",
        "        self.features = features\n",
        "        self.targets = targets\n",
        "        self.eras = eras\n",
        "        self.max_pairs_per_era = max_pairs_per_era\n",
        "        self.era_to_pairs = self.build_era_to_indices_mapping(rng_seed)\n",
        "\n",
        "        self.current_pairs = None\n",
        "\n",
        "    def build_era_to_indices_mapping(self, rng_seed):\n",
        "        unique_eras = torch.unique(self.eras)\n",
        "        rng = np.random.default_rng(rng_seed)\n",
        "        era_to_pairs = {}\n",
        "\n",
        "        era_to_indices = {}\n",
        "        for e in unique_eras:\n",
        "            era_val = e.item()\n",
        "            idxs = torch.where(self.eras==e)[0]\n",
        "            era_to_indices[era_val] = idxs.tolist()\n",
        "\n",
        "        for era_val, idxs in era_to_indices.items():\n",
        "            if len(idxs) < 2:\n",
        "                continue\n",
        "            n_pairs = min(self.max_pairs_per_era, (len(idxs) * (len(idxs) - 1)) // 2)\n",
        "            pairs_for_era = rng.choice(idxs, size=(n_pairs, 2), replace=True)\n",
        "\n",
        "            era_to_pairs[era_val] = pairs_for_era\n",
        "\n",
        "        return era_to_pairs\n",
        "\n",
        "    def set_era(self, era_val):\n",
        "        self.current_pairs = self.era_to_pairs[era_val]\n",
        "\n",
        "    def __len__(self):\n",
        "        return len(self.current_pairs) if self.current_pairs is not None else 0\n",
        "\n",
        "    def __getitem__(self, idx):\n",
        "        i, j = self.current_pairs[idx]\n",
        "        f_i = self.features[i]\n",
        "        f_j = self.features[j]\n",
        "        t_i = self.targets[i]\n",
        "        t_j = self.targets[j]\n",
        "        e_i = self.eras[i]\n",
        "        e_j = self.eras[j]\n",
        "        return f_i, f_j, t_i, t_j, e_i, e_j\n",
        "\n",
        "\n",
        "class SingleEraSampler(Sampler):\n",
        "    def __init__(self, dataset, rng_seed=42):\n",
        "        self.dataset = dataset\n",
        "        self.rng = np.random.default_rng(rng_seed)\n",
        "\n",
        "    def __len__(self):\n",
        "        return len(self.dataset)\n",
        "\n",
        "    def __iter__(self):\n",
        "        n = len(self.dataset)\n",
        "        for ix in np.arange(n):\n",
        "            yield ix"
      ],
      "metadata": {
        "id": "1nPfSyrQYrMI"
      },
      "execution_count": 13,
      "outputs": []
    },
    {
      "cell_type": "code",
      "source": [
        "# train_eras = [i for i in range(500, 950)]\n",
        "train_eras = [i for i in range(500, 550)]\n",
        "x_train_np, y_train_np, train_era_vector_np = load_eras_data_and_filter_columns(train_eras, TRAIN_PATH, feature_set, None)"
      ],
      "metadata": {
        "id": "lBdEXYOEbKJ8"
      },
      "execution_count": 14,
      "outputs": []
    },
    {
      "cell_type": "code",
      "source": [
        "main_target_id = load_target_id(MAIN_TARGET, TRAIN_PATH)\n",
        "aux_target_ids = load_targets_id(AUXILIARY_TARGETS, TRAIN_PATH)\n",
        "\n",
        "y_train_main_np = y_train_np[:, main_target_id]\n",
        "y_train_aux_np = y_train_np[:, aux_target_ids]"
      ],
      "metadata": {
        "id": "eXD4ybC6q5e1"
      },
      "execution_count": 15,
      "outputs": []
    },
    {
      "cell_type": "code",
      "source": [
        "x_train = torch.tensor(x_train_np, dtype=torch.float32)\n",
        "y_train_main = torch.tensor(y_train_main_np, dtype=torch.float32)\n",
        "y_train_aux = torch.tensor(y_train_aux_np, dtype=torch.float32)\n",
        "train_era_vector_pt = torch.tensor(train_era_vector_np, dtype=torch.int32)\n",
        "\n",
        "x_train.shape, y_train_main.shape, y_train_aux.shape, train_era_vector_pt.shape"
      ],
      "metadata": {
        "colab": {
          "base_uri": "https://localhost:8080/"
        },
        "id": "bsQZ25oyXYAW",
        "outputId": "047e591b-d20d-4924-aea0-831a81d25676"
      },
      "execution_count": 16,
      "outputs": [
        {
          "output_type": "execute_result",
          "data": {
            "text/plain": [
              "(torch.Size([255511, 705]),\n",
              " torch.Size([255511]),\n",
              " torch.Size([255511, 8]),\n",
              " torch.Size([255511]))"
            ]
          },
          "metadata": {},
          "execution_count": 16
        }
      ]
    },
    {
      "cell_type": "code",
      "source": [
        "train_era_vector_pt.min(), train_era_vector_pt.max()"
      ],
      "metadata": {
        "colab": {
          "base_uri": "https://localhost:8080/"
        },
        "id": "qs29MUZNDVvZ",
        "outputId": "c3250668-8af7-4d64-af10-e3f59ca697d9"
      },
      "execution_count": 17,
      "outputs": [
        {
          "output_type": "execute_result",
          "data": {
            "text/plain": [
              "(tensor(500, dtype=torch.int32), tensor(549, dtype=torch.int32))"
            ]
          },
          "metadata": {},
          "execution_count": 17
        }
      ]
    },
    {
      "cell_type": "code",
      "source": [
        "x_train = (x_train - 2.0) / 2.0"
      ],
      "metadata": {
        "id": "FXKCUuFvfggZ"
      },
      "execution_count": 18,
      "outputs": []
    },
    {
      "cell_type": "code",
      "source": [
        "y_train_main.unique(), y_train_aux.unique()"
      ],
      "metadata": {
        "colab": {
          "base_uri": "https://localhost:8080/"
        },
        "id": "ql7fZorjnugn",
        "outputId": "22ede50e-fee3-423c-a9b2-41258dd5536b"
      },
      "execution_count": 19,
      "outputs": [
        {
          "output_type": "execute_result",
          "data": {
            "text/plain": [
              "(tensor([0.0000, 0.2500, 0.5000, 0.7500, 1.0000]),\n",
              " tensor([0.0000, 0.2500, 0.5000, 0.7500, 1.0000,    nan,    nan,    nan,    nan,\n",
              "            nan,    nan,    nan,    nan,    nan,    nan,    nan,    nan,    nan,\n",
              "            nan,    nan,    nan,    nan,    nan,    nan,    nan,    nan,    nan,\n",
              "            nan,    nan,    nan,    nan,    nan,    nan,    nan,    nan,    nan,\n",
              "            nan,    nan,    nan,    nan,    nan,    nan,    nan,    nan,    nan,\n",
              "            nan,    nan,    nan,    nan,    nan,    nan,    nan,    nan,    nan,\n",
              "            nan,    nan,    nan,    nan,    nan,    nan,    nan,    nan,    nan,\n",
              "            nan,    nan,    nan,    nan,    nan,    nan,    nan,    nan,    nan,\n",
              "            nan,    nan,    nan,    nan,    nan,    nan,    nan,    nan,    nan,\n",
              "            nan,    nan,    nan,    nan,    nan,    nan,    nan,    nan,    nan,\n",
              "            nan,    nan,    nan,    nan,    nan,    nan,    nan,    nan,    nan,\n",
              "            nan,    nan,    nan,    nan,    nan,    nan,    nan,    nan,    nan,\n",
              "            nan,    nan,    nan,    nan,    nan,    nan,    nan,    nan,    nan,\n",
              "            nan,    nan,    nan,    nan,    nan,    nan,    nan,    nan,    nan,\n",
              "            nan,    nan,    nan,    nan,    nan,    nan,    nan,    nan,    nan,\n",
              "            nan,    nan,    nan,    nan,    nan,    nan,    nan,    nan,    nan,\n",
              "            nan,    nan,    nan,    nan,    nan,    nan,    nan,    nan,    nan,\n",
              "            nan,    nan,    nan,    nan,    nan,    nan,    nan,    nan,    nan,\n",
              "            nan,    nan,    nan,    nan,    nan,    nan,    nan,    nan,    nan,\n",
              "            nan,    nan,    nan,    nan,    nan,    nan,    nan,    nan,    nan,\n",
              "            nan,    nan,    nan,    nan,    nan,    nan,    nan,    nan,    nan,\n",
              "            nan,    nan,    nan,    nan,    nan,    nan,    nan,    nan,    nan,\n",
              "            nan,    nan,    nan,    nan,    nan,    nan,    nan,    nan,    nan,\n",
              "            nan,    nan,    nan,    nan,    nan,    nan,    nan,    nan,    nan,\n",
              "            nan,    nan,    nan,    nan,    nan,    nan,    nan,    nan,    nan,\n",
              "            nan,    nan,    nan,    nan,    nan,    nan,    nan,    nan,    nan,\n",
              "            nan,    nan,    nan,    nan,    nan,    nan,    nan,    nan,    nan,\n",
              "            nan,    nan,    nan,    nan,    nan,    nan,    nan,    nan,    nan,\n",
              "            nan,    nan,    nan,    nan,    nan,    nan,    nan,    nan,    nan,\n",
              "            nan,    nan,    nan,    nan,    nan,    nan,    nan,    nan,    nan,\n",
              "            nan,    nan,    nan,    nan,    nan,    nan,    nan,    nan,    nan,\n",
              "            nan,    nan,    nan,    nan,    nan,    nan,    nan,    nan,    nan,\n",
              "            nan,    nan,    nan,    nan,    nan,    nan,    nan,    nan,    nan,\n",
              "            nan,    nan,    nan,    nan,    nan,    nan,    nan,    nan,    nan,\n",
              "            nan,    nan,    nan,    nan,    nan,    nan,    nan,    nan,    nan,\n",
              "            nan,    nan,    nan,    nan,    nan,    nan,    nan,    nan,    nan,\n",
              "            nan,    nan,    nan,    nan,    nan,    nan,    nan,    nan,    nan,\n",
              "            nan,    nan,    nan,    nan,    nan,    nan,    nan,    nan,    nan,\n",
              "            nan,    nan,    nan,    nan,    nan,    nan,    nan,    nan,    nan,\n",
              "            nan,    nan,    nan,    nan,    nan,    nan,    nan,    nan,    nan,\n",
              "            nan,    nan,    nan,    nan,    nan,    nan,    nan,    nan,    nan,\n",
              "            nan,    nan,    nan,    nan,    nan,    nan,    nan,    nan,    nan,\n",
              "            nan,    nan,    nan,    nan,    nan,    nan,    nan,    nan,    nan,\n",
              "            nan,    nan,    nan,    nan,    nan,    nan,    nan,    nan,    nan,\n",
              "            nan,    nan,    nan,    nan,    nan,    nan,    nan,    nan,    nan,\n",
              "            nan,    nan,    nan,    nan,    nan,    nan,    nan,    nan,    nan,\n",
              "            nan,    nan,    nan,    nan,    nan,    nan,    nan,    nan,    nan,\n",
              "            nan,    nan,    nan,    nan,    nan,    nan,    nan,    nan,    nan,\n",
              "            nan,    nan,    nan,    nan,    nan,    nan,    nan,    nan,    nan,\n",
              "            nan,    nan,    nan,    nan,    nan,    nan,    nan,    nan,    nan,\n",
              "            nan,    nan,    nan,    nan,    nan,    nan,    nan,    nan,    nan,\n",
              "            nan,    nan,    nan,    nan,    nan,    nan,    nan,    nan,    nan,\n",
              "            nan,    nan,    nan,    nan,    nan,    nan,    nan,    nan,    nan,\n",
              "            nan,    nan,    nan,    nan,    nan,    nan,    nan,    nan,    nan,\n",
              "            nan,    nan,    nan,    nan,    nan,    nan,    nan,    nan,    nan,\n",
              "            nan,    nan,    nan,    nan,    nan,    nan,    nan,    nan,    nan,\n",
              "            nan,    nan,    nan,    nan,    nan,    nan,    nan,    nan,    nan,\n",
              "            nan,    nan,    nan,    nan,    nan,    nan,    nan,    nan,    nan,\n",
              "            nan,    nan,    nan,    nan,    nan,    nan,    nan,    nan,    nan,\n",
              "            nan,    nan,    nan,    nan,    nan,    nan,    nan,    nan,    nan,\n",
              "            nan,    nan,    nan,    nan,    nan,    nan,    nan,    nan,    nan,\n",
              "            nan,    nan,    nan,    nan,    nan,    nan,    nan,    nan,    nan,\n",
              "            nan,    nan,    nan,    nan,    nan,    nan,    nan,    nan,    nan,\n",
              "            nan,    nan,    nan,    nan,    nan,    nan,    nan,    nan,    nan,\n",
              "            nan,    nan,    nan,    nan,    nan,    nan,    nan,    nan,    nan,\n",
              "            nan,    nan,    nan,    nan,    nan,    nan,    nan,    nan,    nan,\n",
              "            nan,    nan,    nan,    nan,    nan,    nan,    nan,    nan,    nan,\n",
              "            nan,    nan,    nan,    nan,    nan,    nan,    nan,    nan,    nan,\n",
              "            nan,    nan,    nan,    nan,    nan,    nan,    nan,    nan,    nan,\n",
              "            nan,    nan,    nan,    nan,    nan,    nan,    nan,    nan,    nan,\n",
              "            nan,    nan,    nan,    nan,    nan,    nan,    nan,    nan,    nan,\n",
              "            nan,    nan,    nan,    nan,    nan,    nan,    nan,    nan,    nan,\n",
              "            nan,    nan,    nan,    nan,    nan,    nan,    nan,    nan,    nan,\n",
              "            nan,    nan,    nan,    nan,    nan,    nan,    nan,    nan,    nan,\n",
              "            nan,    nan,    nan,    nan,    nan,    nan,    nan,    nan,    nan,\n",
              "            nan,    nan,    nan,    nan,    nan,    nan,    nan,    nan,    nan,\n",
              "            nan,    nan,    nan,    nan,    nan,    nan,    nan,    nan,    nan,\n",
              "            nan,    nan,    nan,    nan,    nan,    nan,    nan,    nan,    nan,\n",
              "            nan,    nan,    nan,    nan,    nan,    nan,    nan,    nan,    nan,\n",
              "            nan,    nan,    nan,    nan,    nan,    nan,    nan,    nan,    nan,\n",
              "            nan,    nan,    nan,    nan,    nan,    nan,    nan,    nan,    nan,\n",
              "            nan,    nan,    nan,    nan,    nan,    nan,    nan,    nan,    nan,\n",
              "            nan,    nan,    nan,    nan,    nan,    nan,    nan,    nan,    nan,\n",
              "            nan,    nan,    nan,    nan,    nan,    nan,    nan,    nan,    nan,\n",
              "            nan,    nan,    nan,    nan,    nan,    nan,    nan,    nan,    nan,\n",
              "            nan,    nan,    nan,    nan,    nan,    nan,    nan,    nan,    nan,\n",
              "            nan,    nan,    nan,    nan,    nan,    nan,    nan,    nan,    nan,\n",
              "            nan,    nan]))"
            ]
          },
          "metadata": {},
          "execution_count": 19
        }
      ]
    },
    {
      "cell_type": "code",
      "source": [
        "x_train = x_train.float()\n",
        "y_train_main = y_train_main.float()\n",
        "y_train_aux = y_train_aux.float()"
      ],
      "metadata": {
        "id": "fjRC3n_9jaQ9"
      },
      "execution_count": 20,
      "outputs": []
    },
    {
      "cell_type": "code",
      "source": [
        "yc = torch.tensor([0., 0.25, 0.5, 0.75, 1.0], dtype=torch.float32)\n",
        "yc_weights = torch.tensor([1.0, 1.0, 0.2, 1.0, 1.0], dtype=torch.float32)"
      ],
      "metadata": {
        "id": "4dolDfj3-dZJ"
      },
      "execution_count": 21,
      "outputs": []
    },
    {
      "cell_type": "code",
      "source": [
        "# n = 150\n",
        "n = 20\n",
        "x_valid_np, y_valid_np, valid_era_vector_np, valid_eras = load_first_n_eras_data_and_filter_columns(n, VALID_PATH, feature_set, None)"
      ],
      "metadata": {
        "id": "lI8VQ3FcFwkX"
      },
      "execution_count": 22,
      "outputs": []
    },
    {
      "cell_type": "code",
      "source": [
        "main_target_id = load_target_id(MAIN_TARGET, VALID_PATH)\n",
        "aux_target_ids = load_targets_id(AUXILIARY_TARGETS, VALID_PATH)\n",
        "\n",
        "y_valid_main_np = y_valid_np[:, main_target_id]\n",
        "y_valid_aux_np = y_valid_np[:, aux_target_ids]"
      ],
      "metadata": {
        "id": "yvfthHJcrStf"
      },
      "execution_count": 23,
      "outputs": []
    },
    {
      "cell_type": "code",
      "source": [
        "x_valid = torch.tensor(x_valid_np, dtype=torch.float32)\n",
        "y_valid_main = torch.tensor(y_valid_main_np, dtype=torch.float32)\n",
        "y_valid_aux = torch.tensor(y_valid_aux_np, dtype=torch.float32)\n",
        "valid_era_vector_pt = torch.tensor(valid_era_vector_np, dtype=torch.int32)\n",
        "\n",
        "x_valid.shape, y_valid_main.shape, y_valid_aux.shape, valid_era_vector_pt.shape"
      ],
      "metadata": {
        "colab": {
          "base_uri": "https://localhost:8080/"
        },
        "id": "DXFblsSvfGl4",
        "outputId": "12d31f1b-f37b-405f-a026-93d08b1f0f33"
      },
      "execution_count": 24,
      "outputs": [
        {
          "output_type": "execute_result",
          "data": {
            "text/plain": [
              "(torch.Size([140149, 705]),\n",
              " torch.Size([140149]),\n",
              " torch.Size([140149, 8]),\n",
              " torch.Size([140149]))"
            ]
          },
          "metadata": {},
          "execution_count": 24
        }
      ]
    },
    {
      "cell_type": "code",
      "source": [
        "valid_era_vector_pt.min(), valid_era_vector_pt.max()"
      ],
      "metadata": {
        "colab": {
          "base_uri": "https://localhost:8080/"
        },
        "id": "7A878ZC0DdLe",
        "outputId": "61ffe925-961b-4e5d-ad75-7de0457733f8"
      },
      "execution_count": 25,
      "outputs": [
        {
          "output_type": "execute_result",
          "data": {
            "text/plain": [
              "(tensor(975, dtype=torch.int32), tensor(994, dtype=torch.int32))"
            ]
          },
          "metadata": {},
          "execution_count": 25
        }
      ]
    },
    {
      "cell_type": "code",
      "source": [
        "x_valid = (x_valid - 2.0) / 2.0"
      ],
      "metadata": {
        "id": "oPed6Toxfmd5"
      },
      "execution_count": 26,
      "outputs": []
    },
    {
      "cell_type": "code",
      "source": [
        "y_valid_main.unique(), y_valid_aux.unique()"
      ],
      "metadata": {
        "colab": {
          "base_uri": "https://localhost:8080/"
        },
        "id": "bmd8qK3FfHzQ",
        "outputId": "50cd6cdc-9ef9-489f-92c7-7f024052b62b"
      },
      "execution_count": 27,
      "outputs": [
        {
          "output_type": "execute_result",
          "data": {
            "text/plain": [
              "(tensor([0.0000, 0.2500, 0.5000, 0.7500, 1.0000]),\n",
              " tensor([0.0000, 0.2500, 0.5000, 0.7500, 1.0000,    nan,    nan,    nan,    nan,\n",
              "            nan,    nan,    nan,    nan,    nan,    nan,    nan,    nan,    nan,\n",
              "            nan,    nan,    nan,    nan,    nan,    nan,    nan,    nan,    nan,\n",
              "            nan,    nan,    nan,    nan,    nan,    nan,    nan,    nan,    nan,\n",
              "            nan,    nan,    nan,    nan,    nan,    nan,    nan,    nan,    nan,\n",
              "            nan,    nan,    nan,    nan,    nan,    nan,    nan,    nan,    nan,\n",
              "            nan,    nan,    nan,    nan,    nan,    nan,    nan,    nan,    nan,\n",
              "            nan,    nan,    nan,    nan,    nan,    nan,    nan,    nan,    nan,\n",
              "            nan,    nan,    nan,    nan,    nan,    nan,    nan,    nan,    nan,\n",
              "            nan,    nan,    nan,    nan,    nan,    nan,    nan,    nan,    nan,\n",
              "            nan,    nan,    nan,    nan,    nan,    nan,    nan,    nan,    nan,\n",
              "            nan,    nan,    nan,    nan,    nan,    nan,    nan,    nan,    nan,\n",
              "            nan,    nan,    nan,    nan,    nan,    nan,    nan,    nan,    nan,\n",
              "            nan,    nan,    nan,    nan,    nan,    nan,    nan,    nan,    nan,\n",
              "            nan,    nan,    nan,    nan,    nan,    nan,    nan,    nan,    nan,\n",
              "            nan,    nan,    nan,    nan,    nan,    nan,    nan,    nan,    nan,\n",
              "            nan,    nan,    nan,    nan,    nan,    nan,    nan,    nan,    nan,\n",
              "            nan,    nan,    nan,    nan,    nan,    nan,    nan,    nan,    nan,\n",
              "            nan,    nan,    nan,    nan,    nan,    nan,    nan,    nan,    nan,\n",
              "            nan,    nan,    nan,    nan,    nan,    nan,    nan,    nan,    nan,\n",
              "            nan,    nan,    nan,    nan,    nan,    nan,    nan,    nan,    nan,\n",
              "            nan,    nan,    nan,    nan,    nan,    nan,    nan,    nan,    nan,\n",
              "            nan,    nan,    nan,    nan,    nan,    nan,    nan,    nan,    nan,\n",
              "            nan,    nan,    nan,    nan,    nan,    nan,    nan,    nan,    nan,\n",
              "            nan,    nan,    nan,    nan,    nan,    nan,    nan,    nan,    nan,\n",
              "            nan,    nan,    nan,    nan,    nan,    nan,    nan,    nan,    nan,\n",
              "            nan,    nan,    nan,    nan,    nan,    nan,    nan,    nan,    nan,\n",
              "            nan,    nan,    nan,    nan,    nan,    nan,    nan,    nan,    nan,\n",
              "            nan,    nan,    nan,    nan,    nan,    nan,    nan,    nan,    nan,\n",
              "            nan,    nan,    nan,    nan,    nan,    nan,    nan,    nan,    nan,\n",
              "            nan,    nan,    nan,    nan,    nan,    nan,    nan,    nan,    nan,\n",
              "            nan,    nan,    nan,    nan,    nan,    nan,    nan,    nan,    nan,\n",
              "            nan,    nan,    nan,    nan,    nan,    nan,    nan,    nan,    nan,\n",
              "            nan,    nan,    nan,    nan,    nan,    nan,    nan,    nan,    nan,\n",
              "            nan,    nan,    nan,    nan,    nan,    nan,    nan,    nan,    nan,\n",
              "            nan,    nan,    nan,    nan,    nan,    nan,    nan,    nan,    nan,\n",
              "            nan,    nan,    nan,    nan,    nan,    nan,    nan,    nan,    nan,\n",
              "            nan,    nan,    nan,    nan,    nan,    nan,    nan,    nan,    nan,\n",
              "            nan,    nan,    nan,    nan,    nan,    nan,    nan,    nan,    nan,\n",
              "            nan,    nan,    nan,    nan,    nan,    nan,    nan,    nan,    nan,\n",
              "            nan,    nan,    nan,    nan,    nan,    nan,    nan,    nan,    nan,\n",
              "            nan,    nan,    nan,    nan,    nan,    nan,    nan,    nan,    nan,\n",
              "            nan,    nan,    nan,    nan,    nan,    nan,    nan,    nan,    nan,\n",
              "            nan,    nan,    nan,    nan,    nan,    nan,    nan,    nan,    nan,\n",
              "            nan,    nan,    nan,    nan,    nan,    nan,    nan,    nan,    nan,\n",
              "            nan,    nan,    nan,    nan,    nan,    nan,    nan,    nan,    nan,\n",
              "            nan,    nan,    nan,    nan,    nan,    nan,    nan,    nan,    nan,\n",
              "            nan,    nan,    nan,    nan,    nan,    nan,    nan,    nan,    nan,\n",
              "            nan,    nan,    nan,    nan,    nan,    nan,    nan,    nan,    nan,\n",
              "            nan,    nan,    nan,    nan,    nan,    nan,    nan,    nan,    nan,\n",
              "            nan,    nan,    nan,    nan,    nan,    nan,    nan,    nan,    nan,\n",
              "            nan,    nan,    nan,    nan,    nan,    nan,    nan,    nan,    nan,\n",
              "            nan,    nan,    nan,    nan,    nan,    nan,    nan,    nan,    nan,\n",
              "            nan,    nan,    nan,    nan,    nan,    nan,    nan,    nan,    nan,\n",
              "            nan,    nan,    nan,    nan,    nan,    nan,    nan,    nan,    nan,\n",
              "            nan,    nan,    nan,    nan,    nan,    nan,    nan,    nan,    nan,\n",
              "            nan,    nan,    nan,    nan,    nan,    nan,    nan,    nan,    nan,\n",
              "            nan,    nan,    nan,    nan,    nan,    nan,    nan,    nan,    nan,\n",
              "            nan,    nan,    nan,    nan,    nan,    nan,    nan,    nan,    nan,\n",
              "            nan,    nan,    nan,    nan,    nan,    nan,    nan,    nan,    nan,\n",
              "            nan,    nan,    nan,    nan,    nan,    nan,    nan,    nan,    nan,\n",
              "            nan,    nan,    nan,    nan,    nan,    nan,    nan,    nan,    nan,\n",
              "            nan,    nan,    nan,    nan,    nan,    nan,    nan,    nan,    nan,\n",
              "            nan,    nan,    nan,    nan,    nan,    nan,    nan,    nan,    nan,\n",
              "            nan,    nan,    nan,    nan,    nan,    nan,    nan,    nan,    nan,\n",
              "            nan,    nan,    nan,    nan,    nan,    nan,    nan,    nan,    nan,\n",
              "            nan,    nan,    nan,    nan,    nan,    nan,    nan,    nan]))"
            ]
          },
          "metadata": {},
          "execution_count": 27
        }
      ]
    },
    {
      "cell_type": "code",
      "source": [
        "x_valid = x_valid.float()\n",
        "y_valid_main = y_valid_main.float()\n",
        "y_valid_aux = y_valid_aux.float()"
      ],
      "metadata": {
        "id": "_fG_qz48fJsc"
      },
      "execution_count": 28,
      "outputs": []
    },
    {
      "cell_type": "markdown",
      "source": [
        "----"
      ],
      "metadata": {
        "id": "9rkRxXF_yQol"
      }
    },
    {
      "cell_type": "code",
      "source": [
        "class AdapterBlock(nn.Module):\n",
        "    def __init__(self, config, device=None, dtype=None):\n",
        "        super().__init__()\n",
        "\n",
        "        factory_kwargs = {'device': device, 'dtype': dtype}\n",
        "        self.down_proj = nn.Linear(config.n_embd, config.adapter_dim, bias=config.bias, **factory_kwargs)\n",
        "        self.up_proj = nn.Linear(config.adapter_dim, config.n_embd, bias=config.bias, **factory_kwargs)\n",
        "        self.gelu = nn.GELU()\n",
        "\n",
        "    def forward(self, x):\n",
        "        x = self.down_proj(x)\n",
        "        x = self.gelu(x)\n",
        "        x = self.up_proj(x)\n",
        "        return x\n",
        "\n",
        "\n",
        "class MlpBlock(nn.Module):\n",
        "    def __init__(self, config, device=None, dtype=None):\n",
        "        super().__init__()\n",
        "\n",
        "        factory_kwargs = {'device': device, 'dtype': dtype}\n",
        "        self.ln = nn.LayerNorm(config.n_embd, **factory_kwargs)\n",
        "        self.c_fc = nn.Linear(config.n_embd, config.n_embd, bias=config.bias, **factory_kwargs)\n",
        "        self.c_proj = nn.Linear(config.n_embd, config.n_embd, bias=config.bias, **factory_kwargs)\n",
        "        self.gelu = nn.GELU()\n",
        "        self.dropout = nn.Dropout(config.dropout)\n",
        "\n",
        "    def forward(self, x):\n",
        "        x = self.ln(x)\n",
        "        x = self.c_fc(x)\n",
        "        x = self.gelu(x)\n",
        "        x = self.c_proj(x)\n",
        "        x = self.dropout(x)\n",
        "        return x\n",
        "\n",
        "\n",
        "class MlpBackbone(nn.Module):\n",
        "    def __init__(self, config, device=None, dtype=None):\n",
        "        super().__init__()\n",
        "\n",
        "        factory_kwargs = {'device': device, 'dtype': dtype}\n",
        "        self.embedding = nn.Linear(config.input_dim, config.n_embd, bias=True, **factory_kwargs)\n",
        "        self.layers = nn.ModuleList([MlpBlock(config, **factory_kwargs) for _ in range(config.n_layers)])\n",
        "\n",
        "    def forward(self, x):\n",
        "        x = self.embedding(x)\n",
        "        for layer in self.layers:\n",
        "            x_ffn = layer(x)\n",
        "            x = x + x_ffn\n",
        "\n",
        "        return x\n",
        "\n",
        "\n",
        "class MlpBlockWithAdapter(nn.Module):\n",
        "    def __init__(self, mlp_block:MlpBlock, config, device=None, dtype=None):\n",
        "        super().__init__()\n",
        "\n",
        "        factory_kwargs = {'device': device, 'dtype': dtype}\n",
        "        self.base_block = mlp_block\n",
        "        self.adapter_block = AdapterBlock(config, **factory_kwargs)\n",
        "\n",
        "    def forward(self, x):\n",
        "        x = x + self.base_block(x)\n",
        "        x = x + self.adapter_block(x)\n",
        "\n",
        "        return x\n",
        "\n",
        "\n",
        "class MlpBackboneWithAdapter(nn.Module):\n",
        "    def __init__(self, mlp_backbone:MlpBackbone, config, device=None, dtype=None):\n",
        "        super().__init__()\n",
        "\n",
        "        factory_kwargs = {'device': device, 'dtype': dtype}\n",
        "        for block in mlp_backbone.layers:\n",
        "            for name, param in block.named_parameters():\n",
        "                if \"ln\" not in name:\n",
        "                    param.requires_grad = False\n",
        "\n",
        "        self.embedding = mlp_backbone.embedding\n",
        "        # for param in self.embedding.parameters():\n",
        "        #     param.requires_grad = False\n",
        "\n",
        "        self.mlp_blocks_with_adapter = nn.ModuleList(\n",
        "            [MlpBlockWithAdapter(mlp_block, config, **factory_kwargs) for mlp_block in mlp_backbone.layers])\n",
        "\n",
        "    def forward(self, x):\n",
        "        x = self.embedding(x)\n",
        "        for layer in self.mlp_blocks_with_adapter:\n",
        "            x = layer(x)\n",
        "\n",
        "        return x\n",
        "\n",
        "class ReconstructionHead(nn.Module):\n",
        "    def __init__(self, config, device=None, dtype=None):\n",
        "        super().__init__()\n",
        "\n",
        "        factory_kwargs = {'device': device, 'dtype': dtype}\n",
        "        self.proj = nn.Linear(config.n_embd, config.input_dim, bias=True, **factory_kwargs)\n",
        "\n",
        "    def forward(self, x):\n",
        "        return self.proj(x)\n",
        "\n",
        "class RegressionHead(nn.Module):\n",
        "    def __init__(self, config, device=None, dtype=None):\n",
        "        super().__init__()\n",
        "\n",
        "        factory_kwargs = {'device': device, 'dtype': dtype}\n",
        "        self.main_proj = nn.Linear(config.n_embd, config.main_output_dim, bias=True, **factory_kwargs)\n",
        "        self.aux_proj = nn.Linear(config.n_embd, config.aux_output_dim, bias=True, **factory_kwargs)\n",
        "\n",
        "    def forward(self, x):\n",
        "        return self.main_proj(x), self.aux_proj(x)"
      ],
      "metadata": {
        "id": "4Y-vVpbHVuei"
      },
      "execution_count": 29,
      "outputs": []
    },
    {
      "cell_type": "code",
      "source": [
        "class MlpReconstructModel(nn.Module):\n",
        "    def __init__(self, config, device=None, dtype=None):\n",
        "        super().__init__()\n",
        "\n",
        "        factory_kwargs = {'device': device, 'dtype': dtype}\n",
        "        self.backbone = MlpBackbone(config, **factory_kwargs)\n",
        "        self.head = ReconstructionHead(config, **factory_kwargs)\n",
        "\n",
        "        self.config = config\n",
        "\n",
        "    def forward(self, x):\n",
        "        x, mask = self.apply_mask(x)\n",
        "        x = self.backbone(x)\n",
        "\n",
        "        return self.head(x), mask\n",
        "\n",
        "    def apply_mask(self, x):\n",
        "        mask = torch.rand_like(x) < self.config.mask_ratio\n",
        "        noise = torch.randn_like(x) * self.config.noise_std\n",
        "        x_masked = x.clone()\n",
        "        x_masked[mask] = noise[mask]\n",
        "        return x_masked, mask"
      ],
      "metadata": {
        "id": "bPuMIkyzFyO3"
      },
      "execution_count": 30,
      "outputs": []
    },
    {
      "cell_type": "code",
      "source": [
        "class MlpRegressionModel(nn.Module):\n",
        "    def __init__(self, config, device=None, dtype=None):\n",
        "        super().__init__()\n",
        "\n",
        "        factory_kwargs = {'device': device, 'dtype': dtype}\n",
        "        self.backbone = MlpBackbone(config, **factory_kwargs)\n",
        "        self.head = RegressionHead(config, **factory_kwargs)\n",
        "\n",
        "        self.config = config\n",
        "\n",
        "    def forward(self, x):\n",
        "        x = self.backbone(x)\n",
        "\n",
        "        return self.head(x)"
      ],
      "metadata": {
        "id": "DiVcf67vGL9E"
      },
      "execution_count": 31,
      "outputs": []
    },
    {
      "cell_type": "code",
      "source": [
        "class MlpReconstructWithAdapterModel(nn.Module):\n",
        "    def __init__(self, mlp_backbone:MlpBackbone, config, device=None, dtype=None):\n",
        "        super().__init__()\n",
        "\n",
        "        factory_kwargs = {'device': device, 'dtype': dtype}\n",
        "        self.backbone_with_adapter = MlpBackboneWithAdapter(mlp_backbone, config, **factory_kwargs)\n",
        "        self.head = ReconstructionHead(config, **factory_kwargs)\n",
        "\n",
        "        self.config = config\n",
        "\n",
        "    def forward(self, x):\n",
        "        x, mask = self.apply_mask(x)\n",
        "        x = self.backbone_with_adapter(x)\n",
        "\n",
        "        return self.head(x), mask\n",
        "\n",
        "    def apply_mask(self, x):\n",
        "        mask = torch.rand_like(x) < self.config.mask_ratio\n",
        "        noise = torch.randn_like(x) * self.config.noise_std\n",
        "        x_masked = x.clone()\n",
        "        x_masked[mask] = noise[mask]\n",
        "        return x_masked, mask"
      ],
      "metadata": {
        "id": "P909B6ReHyBy"
      },
      "execution_count": 32,
      "outputs": []
    },
    {
      "cell_type": "code",
      "source": [
        "class MlpRegressionWithAdapterModel(nn.Module):\n",
        "    def __init__(self, mlp_backbone:MlpBackboneWithAdapter, head, device=None, dtype=None):\n",
        "        super().__init__()\n",
        "\n",
        "        factory_kwargs = {'device': device, 'dtype': dtype}\n",
        "        self.backbone_with_adapter = mlp_backbone\n",
        "        self.head = head\n",
        "\n",
        "        self.config = config\n",
        "\n",
        "    def forward(self, x):\n",
        "        x = self.backbone_with_adapter(x)\n",
        "\n",
        "        return self.head(x)"
      ],
      "metadata": {
        "id": "FKDTvx4HHoYf"
      },
      "execution_count": 33,
      "outputs": []
    },
    {
      "cell_type": "code",
      "source": [
        "class MlpReconstructWithAdapterAndConsistency(nn.Module):\n",
        "    def __init__(self,\n",
        "                 frozen_backbone: MlpBackbone,\n",
        "                 backbone_with_adapter: MlpBackboneWithAdapter,\n",
        "                 config,\n",
        "                 device=None,\n",
        "                 dtype=None):\n",
        "        super().__init__()\n",
        "\n",
        "        factory_kwargs = {'device': device, 'dtype': dtype}\n",
        "        self.config = config\n",
        "\n",
        "        self.frozen_backbone = frozen_backbone\n",
        "        for param in self.frozen_backbone.parameters():\n",
        "            param.requires_grad = False\n",
        "\n",
        "        self.backbone_with_adapter = backbone_with_adapter\n",
        "        self.head = ReconstructionHead(config, **factory_kwargs)\n",
        "\n",
        "    def apply_mask(self, x):\n",
        "        mask = torch.rand_like(x) < self.config.mask_ratio\n",
        "        noise = torch.randn_like(x) * self.config.noise_std\n",
        "        x_masked = x.clone()\n",
        "        x_masked[mask] = noise[mask]\n",
        "        return x_masked, mask\n",
        "\n",
        "    def forward(self, x):\n",
        "        x_masked, mask = self.apply_mask(x)\n",
        "        h_orig = self.frozen_backbone(x_masked)\n",
        "        h_adapt = self.backbone_with_adapter(x_masked)\n",
        "        recon = self.head(h_adapt)\n",
        "\n",
        "        return recon, mask, h_orig, h_adapt"
      ],
      "metadata": {
        "id": "E1ACxf3_Sfod"
      },
      "execution_count": 34,
      "outputs": []
    },
    {
      "cell_type": "code",
      "source": [
        "@dataclass\n",
        "class Config:\n",
        "    input_dim: int\n",
        "    main_output_dim: int\n",
        "    aux_output_dim: int\n",
        "    n_layers: int\n",
        "    n_embd: int\n",
        "    adapter_dim: int\n",
        "    dropout: float\n",
        "    bias: bool\n",
        "    mask_ratio: float\n",
        "    noise_std: float\n",
        "\n",
        "@dataclass\n",
        "class MlpReconstructConfig:\n",
        "    input_dim: int\n",
        "    main_output_dim: int\n",
        "    aux_output_dim: int\n",
        "    n_layers: int\n",
        "    n_embd: int\n",
        "    dropout: float\n",
        "    bias: bool\n",
        "    mask_ratio: float\n",
        "    noise_std: float"
      ],
      "metadata": {
        "id": "T-Xdr4n9aPhC"
      },
      "execution_count": 35,
      "outputs": []
    },
    {
      "cell_type": "code",
      "source": [
        "checkpoint = torch.load(MODEL_PATH/f\"MLP_RECONSTRUCT.pt\", map_location=device, weights_only=False)"
      ],
      "metadata": {
        "id": "IOoFb8qN43Yc"
      },
      "execution_count": 36,
      "outputs": []
    },
    {
      "cell_type": "code",
      "source": [
        "config = Config(\n",
        "    input_dim=len(feature_set),\n",
        "    main_output_dim=1,\n",
        "    aux_output_dim=len(AUXILIARY_TARGETS),\n",
        "    n_layers=4,\n",
        "    n_embd=256,\n",
        "    adapter_dim=8,\n",
        "    dropout=0.5,\n",
        "    bias=True,\n",
        "    mask_ratio=0.4,\n",
        "    noise_std=0.1\n",
        ")"
      ],
      "metadata": {
        "id": "1Nj_wBrUalqs"
      },
      "execution_count": 37,
      "outputs": []
    },
    {
      "cell_type": "code",
      "source": [
        "batch_size = 1024\n",
        "total_batch_size = 721920 * 2\n",
        "assert total_batch_size % (batch_size*config.input_dim) == 0\n",
        "grad_accum_steps = total_batch_size // (batch_size*config.input_dim)\n",
        "print(f\"Total desired batch size: {total_batch_size}\")\n",
        "print(f\"=> calculated gradient accumulation steps: {grad_accum_steps}\")"
      ],
      "metadata": {
        "id": "srEo7sJKcVO2",
        "colab": {
          "base_uri": "https://localhost:8080/"
        },
        "outputId": "21e5f91a-58dd-42d7-f95c-2cb2b7b4dabe"
      },
      "execution_count": 38,
      "outputs": [
        {
          "output_type": "stream",
          "name": "stdout",
          "text": [
            "Total desired batch size: 1443840\n",
            "=> calculated gradient accumulation steps: 2\n"
          ]
        }
      ]
    },
    {
      "cell_type": "code",
      "source": [
        "backbone_ckpt = {k:v for (k,v) in checkpoint[\"model\"].items() if \"main_proj\" not in k}\n",
        "backbone_for_reg_model_ckpt = {f\"backbone.{k}\":v for (k,v) in backbone_ckpt.items()}\n",
        "\n",
        "reconstruct_head_ckpt = {k:v for (k,v) in checkpoint[\"model\"].items() if \"main_proj\" in k}\n",
        "reconstruct_head_ckpt = {\"head.\"+k.replace(\"main_proj\", \"proj\"): v for (k,v) in reconstruct_head_ckpt.items()}"
      ],
      "metadata": {
        "id": "U2O-1z_n7CkG"
      },
      "execution_count": 39,
      "outputs": []
    },
    {
      "cell_type": "code",
      "source": [
        "mlp_backbone = MlpBackbone(config).to(device)\n",
        "# missing_keys, unexpected_keys = mlp_backbone.load_state_dict(backbone_ckpt, strict=False)\n",
        "\n",
        "# print(\"Missing keys:\", missing_keys)\n",
        "# print(\"Unexpected keys:\", unexpected_keys)"
      ],
      "metadata": {
        "id": "sNoUOCYf7ZZt"
      },
      "execution_count": 40,
      "outputs": []
    },
    {
      "cell_type": "code",
      "source": [
        "reg_model = MlpRegressionModel(config).to(device)\n",
        "# missing_keys, unexpected_keys = reg_model.load_state_dict(backbone_for_reg_model_ckpt, strict=False)\n",
        "\n",
        "# print(\"Missing keys:\", missing_keys)\n",
        "# print(\"Unexpected keys:\", unexpected_keys)"
      ],
      "metadata": {
        "id": "PllIv74RWWIJ"
      },
      "execution_count": 41,
      "outputs": []
    },
    {
      "cell_type": "code",
      "source": [
        "def print_trainable_parameters(model):\n",
        "    n_params = sum(p.numel() for p in model.parameters())\n",
        "    n_params_trainable = sum(p.numel() for p in model.parameters() if p.requires_grad)\n",
        "    print(f\"[{model.__class__.__name__}] Number of trainable parameters: {n_params_trainable:,} out of {n_params:,} total parameters.\")"
      ],
      "metadata": {
        "id": "prRmJ94eWS6K"
      },
      "execution_count": 42,
      "outputs": []
    },
    {
      "cell_type": "code",
      "source": [
        "print_trainable_parameters(reg_model)"
      ],
      "metadata": {
        "id": "9FpY-yiEbCNN",
        "colab": {
          "base_uri": "https://localhost:8080/"
        },
        "outputId": "01e29d47-dddb-4163-a9a8-6784f5a7a75a"
      },
      "execution_count": 43,
      "outputs": [
        {
          "output_type": "stream",
          "name": "stdout",
          "text": [
            "[MlpRegressionModel] Number of trainable parameters: 711,433 out of 711,433 total parameters.\n"
          ]
        }
      ]
    },
    {
      "cell_type": "code",
      "source": [
        "max_steps = 2000\n",
        "val_loss_n_steps = 200\n",
        "learning_rate = 6e-4\n",
        "decay_lr = True\n",
        "warmup_iters = 40\n",
        "lr_decay_iters = max_steps # should be ~= max_iters\n",
        "min_lr = 6e-5 # should be ~= learning_rate/10\n",
        "weight_decay = 1e-1\n",
        "betas = (0.9, 0.999)\n",
        "epsilon = 1e-8\n",
        "lambda_coef = 10.0\n",
        "desired_variance = 0.05\n",
        "gamma = 3.0\n",
        "n_steps_for_adapter = 80\n",
        "inference_mini_batch_size = 256\n",
        "\n",
        "dtype = torch.bfloat16 if torch.cuda.is_available() and torch.cuda.is_bf16_supported() else torch.float16\n",
        "torch.set_float32_matmul_precision(\"high\")\n",
        "\n",
        "np.random.seed(1337)\n",
        "torch.manual_seed(1337)\n",
        "torch.cuda.manual_seed_all(1337)"
      ],
      "metadata": {
        "id": "5lBDjdCgcdU7"
      },
      "execution_count": 44,
      "outputs": []
    },
    {
      "cell_type": "code",
      "source": [
        "train_sampler = SameEraPairSampler(train_era_vector_pt, max_pairs_per_era=4000)\n",
        "train_dataset = PairDataset(x_train, y_train_main, train_era_vector_pt, train_sampler.pairs)\n",
        "train_loader = DataLoader(train_dataset, batch_size=batch_size, sampler=train_sampler)"
      ],
      "metadata": {
        "id": "imVhskatZdqg"
      },
      "execution_count": 45,
      "outputs": []
    },
    {
      "cell_type": "code",
      "source": [
        "valid_sampler = SameEraPairSampler(valid_era_vector_pt, max_pairs_per_era=3000, shuffle=False)\n",
        "valid_dataset = PairDataset(x_valid, y_valid_main, valid_era_vector_pt, valid_sampler.pairs)\n",
        "valid_loader = DataLoader(valid_dataset, batch_size=batch_size, sampler=valid_sampler)"
      ],
      "metadata": {
        "id": "kZtfiXbDB5EU"
      },
      "execution_count": 46,
      "outputs": []
    },
    {
      "cell_type": "code",
      "source": [
        "len(train_loader), len(valid_loader)"
      ],
      "metadata": {
        "id": "7VQByG3aB5EU",
        "colab": {
          "base_uri": "https://localhost:8080/"
        },
        "outputId": "9051f607-4341-421d-83aa-31bdbc3d6f68"
      },
      "execution_count": 47,
      "outputs": [
        {
          "output_type": "execute_result",
          "data": {
            "text/plain": [
              "(196, 59)"
            ]
          },
          "metadata": {},
          "execution_count": 47
        }
      ]
    },
    {
      "cell_type": "code",
      "source": [
        "inference_train_dataset = MultiEraPairsDataset(x_train, y_train_main, train_era_vector_pt, max_pairs_per_era=4000)\n",
        "inference_train_sampler = SingleEraSampler(inference_train_dataset)\n",
        "inference_train_loader = DataLoader(inference_train_dataset, batch_size=inference_mini_batch_size, sampler=inference_train_sampler)"
      ],
      "metadata": {
        "id": "LQqIX82sIkE-"
      },
      "execution_count": 48,
      "outputs": []
    },
    {
      "cell_type": "code",
      "source": [
        "inference_valid_dataset = MultiEraPairsDataset(x_valid, y_valid_main, valid_era_vector_pt, max_pairs_per_era=3000)\n",
        "inference_valid_sampler = SingleEraSampler(inference_valid_dataset)\n",
        "inference_valid_loader = DataLoader(inference_valid_dataset, batch_size=inference_mini_batch_size, sampler=inference_valid_sampler)"
      ],
      "metadata": {
        "id": "i8X1VGaaJPHr"
      },
      "execution_count": 49,
      "outputs": []
    },
    {
      "cell_type": "code",
      "source": [
        "def configure_optimizer(model, weight_decay, learning_rate, betas, device_type, print_):\n",
        "    param_dict = {pn: p for pn, p in model.named_parameters() if p.requires_grad}\n",
        "    decay_params = [p for n, p in param_dict.items() if p.dim() >= 2] # all weight tensors in matmuls + embeddings decay\n",
        "    nodecay_params = [p for n, p in param_dict.items() if p.dim() < 2] # all biases and layernorms\n",
        "\n",
        "    optim_groups = [\n",
        "        {'params': decay_params, 'weight_decay': weight_decay},\n",
        "        {'params': nodecay_params, 'weight_decay': 0.0}\n",
        "    ]\n",
        "    num_decay_params = sum(p.numel() for p in decay_params)\n",
        "    num_nodecay_params = sum(p.numel() for p in nodecay_params)\n",
        "    if print_:\n",
        "        print(f\"num decayed parameter tensors: {len(decay_params)}, with {num_decay_params:,} parameters\")\n",
        "        print(f\"num non-decayed parameter tensors: {len(nodecay_params)}, with {num_nodecay_params:,} parameters\")\n",
        "\n",
        "    use_fused = (device_type == 'cuda')\n",
        "    extra_args = dict(fused=True) if use_fused else dict()\n",
        "\n",
        "    optimizer = torch.optim.AdamW(optim_groups, lr=learning_rate, betas=betas, **extra_args)\n",
        "    if print_:\n",
        "        print(f\"using fused AdamW: {use_fused}\")\n",
        "\n",
        "    return optimizer"
      ],
      "metadata": {
        "id": "ZKQjCJnsJXRY"
      },
      "execution_count": 50,
      "outputs": []
    },
    {
      "cell_type": "code",
      "source": [
        "reg_optimizer = configure_optimizer(reg_model, weight_decay, learning_rate, betas, device, print_=True)"
      ],
      "metadata": {
        "colab": {
          "base_uri": "https://localhost:8080/"
        },
        "id": "I4tZ-mnwJbF2",
        "outputId": "f123d431-6ff7-4eb3-821c-2334fc69921a"
      },
      "execution_count": 51,
      "outputs": [
        {
          "output_type": "stream",
          "name": "stdout",
          "text": [
            "num decayed parameter tensors: 11, with 707,072 parameters\n",
            "num non-decayed parameter tensors: 19, with 4,361 parameters\n",
            "using fused AdamW: True\n"
          ]
        }
      ]
    },
    {
      "cell_type": "code",
      "source": [
        "def get_lr(it, warmup_iters, learning_rate, lr_decay_iters, min_lr):\n",
        "    # 1) linear warmup for warmup_iters steps\n",
        "    if it < warmup_iters:\n",
        "        return learning_rate * (it + 1) / (warmup_iters + 1)\n",
        "    # 2) if it > lr_decay_iters, return min learning rate\n",
        "    if it > lr_decay_iters:\n",
        "        return min_lr\n",
        "    # 3) in between, use cosine decay down to min learning rate\n",
        "    decay_ratio = (it - warmup_iters) / (lr_decay_iters - warmup_iters)\n",
        "    assert 0 <= decay_ratio <= 1\n",
        "    coeff = 0.5 * (1.0 + math.cos(math.pi * decay_ratio)) # coeff ranges 0..1\n",
        "    return min_lr + coeff * (learning_rate - min_lr)\n",
        "\n",
        "get_lr_with_default_values = lambda it: get_lr(it, warmup_iters, learning_rate, lr_decay_iters, min_lr)"
      ],
      "metadata": {
        "id": "YXrkMSHJcxIo"
      },
      "execution_count": 52,
      "outputs": []
    },
    {
      "cell_type": "code",
      "source": [
        "def masked_mse_loss(pred, target, mask):\n",
        "    return ((pred - target)**2 * mask.float()).sum() / mask.float().sum().clamp_min(epsilon)\n",
        "\n",
        "def masked_mse_loss_with_consistency(pred, target, mask, h_orig, h_adapt, lambda_):\n",
        "    consistency_loss = F.mse_loss(h_adapt, h_orig)\n",
        "    return masked_mse_loss(pred, target, mask) + lambda_ * consistency_loss"
      ],
      "metadata": {
        "id": "7Ru1XSWrm7tO"
      },
      "execution_count": 53,
      "outputs": []
    },
    {
      "cell_type": "code",
      "source": [
        "def pairwise_logistic_loss(preds_i, preds_j, targets_i, targets_j):\n",
        "    preds_i = preds_i.view(-1)\n",
        "    preds_j = preds_j.view(-1)\n",
        "    targets_i = targets_i.view(-1)\n",
        "    targets_j = targets_j.view(-1)\n",
        "\n",
        "    mask = (targets_i != targets_j)\n",
        "    sign = torch.sign(targets_i - targets_j)\n",
        "    diff = preds_i - preds_j\n",
        "    loss = -torch.log(F.sigmoid(sign * diff)) * mask.float()\n",
        "    return loss.sum() / mask.float().sum().clamp_min(1e-8)"
      ],
      "metadata": {
        "id": "RFNQoRQzVEBE"
      },
      "execution_count": 54,
      "outputs": []
    },
    {
      "cell_type": "code",
      "source": [
        "@torch.no_grad()\n",
        "def run_regression_eval_loop(model, valid_loader_iter, n_valid_steps, loss_fn):\n",
        "    model.eval()\n",
        "    valid_loader_iter.reset()\n",
        "    val_loss_accum = 0.0\n",
        "    for _ in range(n_valid_steps):\n",
        "        xb1, xb2, yb1, yb2, _, _ = next(valid_loader_iter)\n",
        "        xb1, xb2, yb1, yb2 = xb1.to(device), xb2.to(device), yb1.to(device), yb2.to(device)\n",
        "        with torch.autocast(device_type=device, dtype=dtype):\n",
        "            preds_i, _ = model(xb1)\n",
        "            preds_j, _ = model(xb2)\n",
        "            loss = loss_fn(preds_i, preds_j, yb1, yb2)\n",
        "        loss = loss / n_valid_steps\n",
        "        val_loss_accum += loss.detach()\n",
        "\n",
        "    return val_loss_accum"
      ],
      "metadata": {
        "id": "4fWJaHEcmflX"
      },
      "execution_count": 55,
      "outputs": []
    },
    {
      "cell_type": "code",
      "source": [
        "def train_adapter_on_dataset(mlp_backbone, config, loader_iter, n_steps, grad_accum_steps, loss_fn):\n",
        "    backbone = MlpBackbone(config).to(device)\n",
        "    backbone.load_state_dict(mlp_backbone.state_dict())\n",
        "\n",
        "    backbone_with_adapter = MlpBackboneWithAdapter(backbone, config)\n",
        "    model = MlpReconstructWithAdapterAndConsistency(backbone, backbone_with_adapter, config).to(device)\n",
        "\n",
        "    # display_pt_model_params(model)\n",
        "\n",
        "    optimizer = configure_optimizer(model, weight_decay, learning_rate, betas, device, print_=False)\n",
        "\n",
        "    model.train(True)\n",
        "    loader_iter.reset()\n",
        "\n",
        "    for step in range(n_steps):\n",
        "        last_step = (step == n_steps - 1)\n",
        "        t0 = time.time()\n",
        "        optimizer.zero_grad()\n",
        "        loss_accum = 0.0\n",
        "        for micro_step in range(grad_accum_steps):\n",
        "            xb1, xb2, _, _, _, _ = next(valid_loader_iter)\n",
        "            xb1, xb2 = xb1.to(device), xb2.to(device)\n",
        "\n",
        "            with torch.autocast(device_type=device, dtype=dtype):\n",
        "                xb_hat, mask, h_orig, h_adapt = model(xb1)\n",
        "                loss = loss_fn(xb_hat, xb1, mask, h_orig, h_adapt, lambda_=0.2)\n",
        "\n",
        "            loss = loss / grad_accum_steps\n",
        "            loss_accum += loss.detach()\n",
        "            loss.backward()\n",
        "        norm = torch.nn.utils.clip_grad_norm_(model.parameters(), 1.0)\n",
        "\n",
        "        optimizer.step()\n",
        "        if torch.cuda.is_available():\n",
        "            torch.cuda.synchronize()\n",
        "        t1 = time.time()\n",
        "        dt = t1 - t0\n",
        "        if step % 10 == 0 or last_step:\n",
        "            print(f\"[{model.__class__.__name__}] step {step+1:3d}/{n_steps:3d} | loss={loss_accum.item():.6f} | lr={learning_rate:.6e} | norm={norm:.4f} | dt={dt*1000:.2f}ms\")\n",
        "\n",
        "    return model"
      ],
      "metadata": {
        "id": "Tr4k7galXA6P"
      },
      "execution_count": 56,
      "outputs": []
    },
    {
      "cell_type": "code",
      "source": [
        "def run_eval_loop_with_adapter(model, valid_loader_iter, config, n_steps, n_valid_steps):\n",
        "    adapter_model = train_adapter_on_dataset(model.backbone, config, valid_loader_iter, n_steps, 1, masked_mse_loss_with_consistency)\n",
        "    reg_model_with_adapter = MlpRegressionWithAdapterModel(adapter_model.backbone_with_adapter, model.head).to(device)\n",
        "    val_loss = run_regression_eval_loop(reg_model_with_adapter, valid_loader_iter, n_valid_steps, pairwise_logistic_loss)\n",
        "    return reg_model_with_adapter, val_loss"
      ],
      "metadata": {
        "id": "21fEbhewXEw4"
      },
      "execution_count": 57,
      "outputs": []
    },
    {
      "cell_type": "code",
      "source": [
        "def run_train_step(model, optimizer, train_loader_iter, step, loss_fn):\n",
        "    model.train(True)\n",
        "    lr = get_lr_with_default_values(step) if decay_lr else learning_rate\n",
        "    for param_group in optimizer.param_groups:\n",
        "        param_group['lr'] = lr\n",
        "\n",
        "    optimizer.zero_grad()\n",
        "    loss_accum = 0.0\n",
        "    for micro_step in range(grad_accum_steps):\n",
        "        xb1, xb2, yb1, yb2, _, _ = next(train_loader_iter)\n",
        "        xb1, xb2, yb1, yb2 = xb1.to(device), xb2.to(device), yb1.to(device), yb2.to(device)\n",
        "\n",
        "        with torch.autocast(device_type=device, dtype=dtype):\n",
        "            preds_i, _ = model(xb1)\n",
        "            preds_j, _ = model(xb2)\n",
        "            loss = loss_fn(preds_i, preds_j, yb1, yb2)\n",
        "\n",
        "        loss = loss / grad_accum_steps\n",
        "        loss_accum += loss.detach()\n",
        "        loss.backward()\n",
        "    norm = torch.nn.utils.clip_grad_norm_(model.parameters(), 1.0)\n",
        "\n",
        "    optimizer.step()\n",
        "\n",
        "    return loss_accum, norm, lr"
      ],
      "metadata": {
        "id": "P6SeLrpoXNGz"
      },
      "execution_count": 58,
      "outputs": []
    },
    {
      "cell_type": "code",
      "source": [
        "train_losses, valid_losses, valid_losses_with_adapter = [], [], []\n",
        "\n",
        "train_loader_iter = InfiniteDataIterator(train_loader, \"train\")\n",
        "valid_loader_iter = InfiniteDataIterator(valid_loader, \"valid\")\n",
        "n_valid_steps = 5 # len(valid_loader)\n",
        "for step in range(max_steps):\n",
        "    t0 = time.time()\n",
        "    last_step = (step == max_steps - 1)\n",
        "\n",
        "    if step % val_loss_n_steps == 0 or last_step:\n",
        "        val_loss = run_regression_eval_loop(reg_model, valid_loader_iter, n_valid_steps, pairwise_logistic_loss)\n",
        "        print(f\"[{reg_model.__class__.__name__}] step {step+1:3d}/{max_steps:3d} | val_loss={val_loss.item():.4f}\")\n",
        "        valid_losses.append(val_loss.item())\n",
        "\n",
        "        # reg_model_with_adapter, val_loss_with_adapter = run_eval_loop_with_adapter(reg_model, valid_loader_iter, config, n_steps_for_adapter, n_valid_steps)\n",
        "        # print(f\"[{reg_model_with_adapter.__class__.__name__}] step {step+1:3d}/{max_steps:3d} | val_loss={val_loss_with_adapter.item():.4f}\")\n",
        "        # valid_losses_with_adapter.append(val_loss_with_adapter.item())\n",
        "\n",
        "    loss_accum, norm, lr = run_train_step(reg_model, reg_optimizer, train_loader_iter, step, pairwise_logistic_loss)\n",
        "\n",
        "    if torch.cuda.is_available():\n",
        "        torch.cuda.synchronize()\n",
        "    t1 = time.time()\n",
        "    dt = t1 - t0\n",
        "    if step % 50 == 0 or last_step:\n",
        "        print(f\"[{reg_model.__class__.__name__}] step {step+1:3d}/{max_steps:3d} | loss={loss_accum.item():.6f} | lr={lr:.6e} | norm={norm:.4f} | dt={dt*1000:.2f}ms\")\n",
        "\n",
        "    train_losses.append(loss_accum.item())"
      ],
      "metadata": {
        "id": "dd8IOrGEc5kP",
        "colab": {
          "base_uri": "https://localhost:8080/"
        },
        "outputId": "aaca1fa9-0533-478f-d06a-8cf182a13953"
      },
      "execution_count": 59,
      "outputs": [
        {
          "output_type": "stream",
          "name": "stdout",
          "text": [
            "Resetting data loader (valid split)...\n",
            "[MlpRegressionModel] step   1/2000 | val_loss=0.7282\n",
            "[MlpRegressionModel] step   1/2000 | loss=0.728121 | lr=1.463415e-05 | norm=0.6253 | dt=769.17ms\n",
            "[MlpRegressionModel] step  51/2000 | loss=0.688636 | lr=5.999653e-04 | norm=0.3091 | dt=154.67ms\n",
            "Restarting data loader (train split)...\n",
            "[MlpRegressionModel] step 101/2000 | loss=0.684585 | lr=5.987524e-04 | norm=0.3253 | dt=155.20ms\n",
            "[MlpRegressionModel] step 151/2000 | loss=0.676669 | lr=5.958142e-04 | norm=0.3390 | dt=155.15ms\n",
            "Restarting data loader (train split)...\n",
            "Resetting data loader (valid split)...\n",
            "[MlpRegressionModel] step 201/2000 | val_loss=0.7199\n",
            "[MlpRegressionModel] step 201/2000 | loss=0.661119 | lr=5.911696e-04 | norm=0.3960 | dt=390.19ms\n",
            "[MlpRegressionModel] step 251/2000 | loss=0.650486 | lr=5.848485e-04 | norm=0.3702 | dt=158.06ms\n",
            "Restarting data loader (train split)...\n",
            "[MlpRegressionModel] step 301/2000 | loss=0.642881 | lr=5.768914e-04 | norm=0.4111 | dt=162.48ms\n",
            "[MlpRegressionModel] step 351/2000 | loss=0.626270 | lr=5.673494e-04 | norm=0.5707 | dt=156.37ms\n",
            "Restarting data loader (train split)...\n",
            "Resetting data loader (valid split)...\n",
            "[MlpRegressionModel] step 401/2000 | val_loss=0.8163\n",
            "[MlpRegressionModel] step 401/2000 | loss=0.619906 | lr=5.562838e-04 | norm=0.5534 | dt=532.45ms\n",
            "[MlpRegressionModel] step 451/2000 | loss=0.588223 | lr=5.437655e-04 | norm=0.5929 | dt=155.77ms\n",
            "Restarting data loader (train split)...\n",
            "[MlpRegressionModel] step 501/2000 | loss=0.563350 | lr=5.298751e-04 | norm=0.6090 | dt=151.96ms\n",
            "[MlpRegressionModel] step 551/2000 | loss=0.547183 | lr=5.147015e-04 | norm=0.6481 | dt=165.92ms\n",
            "Restarting data loader (train split)...\n",
            "Resetting data loader (valid split)...\n",
            "[MlpRegressionModel] step 601/2000 | val_loss=0.9152\n",
            "[MlpRegressionModel] step 601/2000 | loss=0.533662 | lr=4.983422e-04 | norm=0.7338 | dt=381.63ms\n",
            "[MlpRegressionModel] step 651/2000 | loss=0.505595 | lr=4.809023e-04 | norm=0.7709 | dt=153.99ms\n",
            "Restarting data loader (train split)...\n",
            "[MlpRegressionModel] step 701/2000 | loss=0.473994 | lr=4.624937e-04 | norm=0.7666 | dt=158.66ms\n",
            "[MlpRegressionModel] step 751/2000 | loss=0.471367 | lr=4.432346e-04 | norm=0.8324 | dt=154.45ms\n",
            "Restarting data loader (train split)...\n",
            "Resetting data loader (valid split)...\n",
            "[MlpRegressionModel] step 801/2000 | val_loss=1.0866\n",
            "[MlpRegressionModel] step 801/2000 | loss=0.434953 | lr=4.232486e-04 | norm=0.8557 | dt=368.91ms\n",
            "[MlpRegressionModel] step 851/2000 | loss=0.425568 | lr=4.026639e-04 | norm=0.9254 | dt=154.42ms\n",
            "Restarting data loader (train split)...\n",
            "[MlpRegressionModel] step 901/2000 | loss=0.394696 | lr=3.816128e-04 | norm=0.9314 | dt=156.89ms\n",
            "[MlpRegressionModel] step 951/2000 | loss=0.387403 | lr=3.602304e-04 | norm=1.0099 | dt=150.70ms\n",
            "Restarting data loader (train split)...\n",
            "Resetting data loader (valid split)...\n",
            "[MlpRegressionModel] step 1001/2000 | val_loss=1.2401\n",
            "[MlpRegressionModel] step 1001/2000 | loss=0.364286 | lr=3.386539e-04 | norm=1.0055 | dt=523.80ms\n",
            "[MlpRegressionModel] step 1051/2000 | loss=0.333059 | lr=3.170219e-04 | norm=1.0562 | dt=157.49ms\n",
            "Restarting data loader (train split)...\n",
            "[MlpRegressionModel] step 1101/2000 | loss=0.321666 | lr=2.954732e-04 | norm=1.0146 | dt=155.33ms\n",
            "[MlpRegressionModel] step 1151/2000 | loss=0.314248 | lr=2.741461e-04 | norm=1.1486 | dt=156.19ms\n",
            "Restarting data loader (train split)...\n",
            "Resetting data loader (valid split)...\n",
            "[MlpRegressionModel] step 1201/2000 | val_loss=1.4994\n",
            "[MlpRegressionModel] step 1201/2000 | loss=0.295337 | lr=2.531776e-04 | norm=1.1566 | dt=370.85ms\n",
            "[MlpRegressionModel] step 1251/2000 | loss=0.324245 | lr=2.327022e-04 | norm=1.2878 | dt=154.63ms\n",
            "Restarting data loader (train split)...\n",
            "[MlpRegressionModel] step 1301/2000 | loss=0.270126 | lr=2.128514e-04 | norm=1.1986 | dt=158.95ms\n",
            "[MlpRegressionModel] step 1351/2000 | loss=0.280727 | lr=1.937526e-04 | norm=1.3476 | dt=156.43ms\n",
            "Restarting data loader (train split)...\n",
            "Resetting data loader (valid split)...\n",
            "[MlpRegressionModel] step 1401/2000 | val_loss=1.7116\n",
            "[MlpRegressionModel] step 1401/2000 | loss=0.220270 | lr=1.755285e-04 | norm=1.1802 | dt=368.83ms\n",
            "[MlpRegressionModel] step 1451/2000 | loss=0.219445 | lr=1.582960e-04 | norm=1.2638 | dt=155.77ms\n",
            "Restarting data loader (train split)...\n",
            "[MlpRegressionModel] step 1501/2000 | loss=0.264483 | lr=1.421657e-04 | norm=1.4513 | dt=155.96ms\n",
            "[MlpRegressionModel] step 1551/2000 | loss=0.235109 | lr=1.272412e-04 | norm=1.4087 | dt=314.33ms\n",
            "Restarting data loader (train split)...\n",
            "Resetting data loader (valid split)...\n",
            "[MlpRegressionModel] step 1601/2000 | val_loss=1.9522\n",
            "[MlpRegressionModel] step 1601/2000 | loss=0.211517 | lr=1.136183e-04 | norm=1.3801 | dt=365.33ms\n",
            "[MlpRegressionModel] step 1651/2000 | loss=0.249379 | lr=1.013845e-04 | norm=1.5757 | dt=151.06ms\n",
            "Restarting data loader (train split)...\n",
            "[MlpRegressionModel] step 1701/2000 | loss=0.186296 | lr=9.061819e-05 | norm=1.3165 | dt=150.98ms\n",
            "[MlpRegressionModel] step 1751/2000 | loss=0.200281 | lr=8.138860e-05 | norm=1.5331 | dt=152.37ms\n",
            "Restarting data loader (train split)...\n",
            "Resetting data loader (valid split)...\n",
            "[MlpRegressionModel] step 1801/2000 | val_loss=2.1467\n",
            "[MlpRegressionModel] step 1801/2000 | loss=0.171485 | lr=7.375495e-05 | norm=1.2719 | dt=367.96ms\n",
            "[MlpRegressionModel] step 1851/2000 | loss=0.200908 | lr=6.776624e-05 | norm=1.5730 | dt=151.63ms\n",
            "Restarting data loader (train split)...\n",
            "[MlpRegressionModel] step 1901/2000 | loss=0.166695 | lr=6.346092e-05 | norm=1.4310 | dt=155.54ms\n",
            "[MlpRegressionModel] step 1951/2000 | loss=0.167917 | lr=6.086662e-05 | norm=1.4304 | dt=153.37ms\n",
            "Restarting data loader (train split)...\n",
            "Resetting data loader (valid split)...\n",
            "[MlpRegressionModel] step 2000/2000 | val_loss=2.2674\n",
            "[MlpRegressionModel] step 2000/2000 | loss=0.165994 | lr=6.000035e-05 | norm=1.4413 | dt=365.88ms\n"
          ]
        }
      ]
    },
    {
      "cell_type": "code",
      "source": [
        "plt.figure(figsize=(8,5))\n",
        "plt.plot(np.arange(len(train_losses)), train_losses)\n",
        "plt.scatter(np.arange(len(valid_losses))*val_loss_n_steps, valid_losses, color='red', zorder=3, s=10)\n",
        "# plt.scatter(np.arange(len(valid_losses_with_adapter))*val_loss_n_steps, valid_losses_with_adapter, color='green', zorder=3, s=10)\n",
        "plt.show()"
      ],
      "metadata": {
        "id": "xwIpu32bdJFY",
        "colab": {
          "base_uri": "https://localhost:8080/",
          "height": 445
        },
        "outputId": "642592c1-9990-4db9-f3da-d4c0aa5a3d4f"
      },
      "execution_count": 60,
      "outputs": [
        {
          "output_type": "display_data",
          "data": {
            "text/plain": [
              "<Figure size 800x500 with 1 Axes>"
            ],
            "image/png": "[encoded data removed]"
          },
          "metadata": {}
        }
      ]
    },
    {
      "cell_type": "markdown",
      "source": [
        "# Save the model"
      ],
      "metadata": {
        "id": "PG2PlHeuirzN"
      }
    },
    {
      "cell_type": "code",
      "source": [
        "checkpoint = {\n",
        "    'model': reg_model.state_dict(),\n",
        "    'config': config\n",
        "}\n",
        "# torch.save(checkpoint, MODEL_PATH/f\"{MODEL_NAME}.pt\")"
      ],
      "metadata": {
        "id": "gR67fZbQivTP"
      },
      "execution_count": 61,
      "outputs": []
    },
    {
      "cell_type": "markdown",
      "source": [
        "----\n",
        "# Validation"
      ],
      "metadata": {
        "id": "xpm06Cs0XcDx"
      }
    },
    {
      "cell_type": "code",
      "source": [
        "@torch.no_grad()\n",
        "def run_inference_loop(model, dataloader):\n",
        "    model.eval()\n",
        "    for batch in dataloader:\n",
        "        features, _, targets, _, eras, _ = batch\n",
        "        features = features.to(device)\n",
        "\n",
        "        with torch.autocast(device_type=device, dtype=dtype):\n",
        "            t_predictions, _ = reg_model(features)\n",
        "\n",
        "        predictions = t_predictions.squeeze(-1).float().cpu()\n",
        "\n",
        "    return predictions, targets, eras"
      ],
      "metadata": {
        "id": "GM5CHNi4GP76"
      },
      "execution_count": 62,
      "outputs": []
    },
    {
      "cell_type": "code",
      "source": [
        "def train_adapter_during_inference(mlp_backbone, config, dataloader, loss_fn, n_epochs, era):\n",
        "    backbone = MlpBackbone(config).to(device)\n",
        "    backbone.load_state_dict(mlp_backbone.state_dict())\n",
        "\n",
        "    backbone_with_adapter = MlpBackboneWithAdapter(backbone, config)\n",
        "    model = MlpReconstructWithAdapterAndConsistency(backbone, backbone_with_adapter, config).to(device)\n",
        "\n",
        "    optimizer = configure_optimizer(model, weight_decay, learning_rate, betas, device, print_=False)\n",
        "\n",
        "    model.train(True)\n",
        "    for epoch in range(n_epochs):\n",
        "        for batch in dataloader:\n",
        "            t0 = time.time()\n",
        "            optimizer.zero_grad()\n",
        "            xb1, xb2, _, _, _, _ = batch\n",
        "            xb1, xb2 = xb1.to(device), xb2.to(device)\n",
        "\n",
        "            with torch.autocast(device_type=device, dtype=dtype):\n",
        "                xb_hat, mask, h_orig, h_adapt = model(xb1)\n",
        "                loss = loss_fn(xb_hat, xb1, mask, h_orig, h_adapt, lambda_=0.2)\n",
        "\n",
        "            loss.backward()\n",
        "            norm = torch.nn.utils.clip_grad_norm_(model.parameters(), 1.0)\n",
        "\n",
        "            optimizer.step()\n",
        "            if torch.cuda.is_available():\n",
        "                torch.cuda.synchronize()\n",
        "            t1 = time.time()\n",
        "            dt = t1 - t0\n",
        "        print(f\"[{model.__class__.__name__}] era {str(era).zfill(4)} | epoch {epoch+1:3d}/{n_epochs:3d} | loss={loss.item():.6f}\")\n",
        "\n",
        "    return model"
      ],
      "metadata": {
        "id": "6juJHrN9GmT4"
      },
      "execution_count": 63,
      "outputs": []
    },
    {
      "cell_type": "code",
      "source": [
        "def run_inference_with_adapter_model(model, config, dataloader, n_adapter_epochs, era):\n",
        "    adapter_model = train_adapter_during_inference(model.backbone, config, dataloader, masked_mse_loss_with_consistency, n_adapter_epochs, era)\n",
        "    reg_model_with_adapter = MlpRegressionWithAdapterModel(adapter_model.backbone_with_adapter, model.head).to(device)\n",
        "    inference_data = run_inference_loop(reg_model_with_adapter, dataloader)\n",
        "    return reg_model_with_adapter, inference_data"
      ],
      "metadata": {
        "id": "i6NRuwzcF0Cz"
      },
      "execution_count": 64,
      "outputs": []
    },
    {
      "cell_type": "code",
      "source": [
        "reg_model.eval()"
      ],
      "metadata": {
        "id": "r4F8C6wz-q0S",
        "colab": {
          "base_uri": "https://localhost:8080/"
        },
        "outputId": "68a503a3-b313-4e87-9e30-019df17b3379"
      },
      "execution_count": 65,
      "outputs": [
        {
          "output_type": "execute_result",
          "data": {
            "text/plain": [
              "MlpRegressionModel(\n",
              "  (backbone): MlpBackbone(\n",
              "    (embedding): Linear(in_features=705, out_features=256, bias=True)\n",
              "    (layers): ModuleList(\n",
              "      (0-3): 4 x MlpBlock(\n",
              "        (ln): LayerNorm((256,), eps=1e-05, elementwise_affine=True)\n",
              "        (c_fc): Linear(in_features=256, out_features=256, bias=True)\n",
              "        (c_proj): Linear(in_features=256, out_features=256, bias=True)\n",
              "        (gelu): GELU(approximate='none')\n",
              "        (dropout): Dropout(p=0.5, inplace=False)\n",
              "      )\n",
              "    )\n",
              "  )\n",
              "  (head): RegressionHead(\n",
              "    (main_proj): Linear(in_features=256, out_features=1, bias=True)\n",
              "    (aux_proj): Linear(in_features=256, out_features=8, bias=True)\n",
              "  )\n",
              ")"
            ]
          },
          "metadata": {},
          "execution_count": 65
        }
      ]
    },
    {
      "cell_type": "code",
      "source": [
        "train_predictions = []\n",
        "train_targets = []\n",
        "used_train_eras = []\n",
        "\n",
        "inference_train_eras = list(inference_train_dataset.era_to_pairs.keys())\n",
        "for era in inference_train_eras:\n",
        "    inference_train_dataset.set_era(era)\n",
        "\n",
        "    reg_model_with_adapter, inference_data = run_inference_with_adapter_model(\n",
        "        reg_model, config, inference_train_loader, 5, era)\n",
        "\n",
        "    predictions, targets, eras = inference_data\n",
        "    train_predictions.append(predictions.numpy())\n",
        "    train_targets.append(targets.numpy())\n",
        "    used_train_eras.append(eras.numpy())\n",
        "\n",
        "train_predictions = np.concatenate(train_predictions, axis=0)\n",
        "train_targets = np.concatenate(train_targets, axis=0)\n",
        "used_train_eras = np.concatenate(used_train_eras, axis=0)"
      ],
      "metadata": {
        "id": "o-9aEZz6q3ch",
        "colab": {
          "base_uri": "https://localhost:8080/"
        },
        "outputId": "d596d20e-623d-4d37-9265-2867af9e524e"
      },
      "execution_count": 66,
      "outputs": [
        {
          "output_type": "stream",
          "name": "stdout",
          "text": [
            "[MlpReconstructWithAdapterAndConsistency] era 0500 | epoch   1/  5 | loss=0.686289\n",
            "[MlpReconstructWithAdapterAndConsistency] era 0500 | epoch   2/  5 | loss=0.636803\n",
            "[MlpReconstructWithAdapterAndConsistency] era 0500 | epoch   3/  5 | loss=0.603418\n",
            "[MlpReconstructWithAdapterAndConsistency] era 0500 | epoch   4/  5 | loss=0.562411\n",
            "[MlpReconstructWithAdapterAndConsistency] era 0500 | epoch   5/  5 | loss=0.537998\n",
            "[MlpReconstructWithAdapterAndConsistency] era 0501 | epoch   1/  5 | loss=0.683399\n",
            "[MlpReconstructWithAdapterAndConsistency] era 0501 | epoch   2/  5 | loss=0.632391\n",
            "[MlpReconstructWithAdapterAndConsistency] era 0501 | epoch   3/  5 | loss=0.593948\n",
            "[MlpReconstructWithAdapterAndConsistency] era 0501 | epoch   4/  5 | loss=0.554123\n",
            "[MlpReconstructWithAdapterAndConsistency] era 0501 | epoch   5/  5 | loss=0.535622\n",
            "[MlpReconstructWithAdapterAndConsistency] era 0502 | epoch   1/  5 | loss=0.686999\n",
            "[MlpReconstructWithAdapterAndConsistency] era 0502 | epoch   2/  5 | loss=0.637865\n",
            "[MlpReconstructWithAdapterAndConsistency] era 0502 | epoch   3/  5 | loss=0.597684\n",
            "[MlpReconstructWithAdapterAndConsistency] era 0502 | epoch   4/  5 | loss=0.565513\n",
            "[MlpReconstructWithAdapterAndConsistency] era 0502 | epoch   5/  5 | loss=0.538794\n",
            "[MlpReconstructWithAdapterAndConsistency] era 0503 | epoch   1/  5 | loss=0.694416\n",
            "[MlpReconstructWithAdapterAndConsistency] era 0503 | epoch   2/  5 | loss=0.645476\n",
            "[MlpReconstructWithAdapterAndConsistency] era 0503 | epoch   3/  5 | loss=0.605199\n",
            "[MlpReconstructWithAdapterAndConsistency] era 0503 | epoch   4/  5 | loss=0.582057\n",
            "[MlpReconstructWithAdapterAndConsistency] era 0503 | epoch   5/  5 | loss=0.538164\n",
            "[MlpReconstructWithAdapterAndConsistency] era 0504 | epoch   1/  5 | loss=0.688210\n",
            "[MlpReconstructWithAdapterAndConsistency] era 0504 | epoch   2/  5 | loss=0.635574\n",
            "[MlpReconstructWithAdapterAndConsistency] era 0504 | epoch   3/  5 | loss=0.595487\n",
            "[MlpReconstructWithAdapterAndConsistency] era 0504 | epoch   4/  5 | loss=0.557006\n",
            "[MlpReconstructWithAdapterAndConsistency] era 0504 | epoch   5/  5 | loss=0.526170\n",
            "[MlpReconstructWithAdapterAndConsistency] era 0505 | epoch   1/  5 | loss=0.697128\n",
            "[MlpReconstructWithAdapterAndConsistency] era 0505 | epoch   2/  5 | loss=0.645241\n",
            "[MlpReconstructWithAdapterAndConsistency] era 0505 | epoch   3/  5 | loss=0.603354\n",
            "[MlpReconstructWithAdapterAndConsistency] era 0505 | epoch   4/  5 | loss=0.573406\n",
            "[MlpReconstructWithAdapterAndConsistency] era 0505 | epoch   5/  5 | loss=0.539714\n",
            "[MlpReconstructWithAdapterAndConsistency] era 0506 | epoch   1/  5 | loss=0.681585\n",
            "[MlpReconstructWithAdapterAndConsistency] era 0506 | epoch   2/  5 | loss=0.636360\n",
            "[MlpReconstructWithAdapterAndConsistency] era 0506 | epoch   3/  5 | loss=0.604708\n",
            "[MlpReconstructWithAdapterAndConsistency] era 0506 | epoch   4/  5 | loss=0.573923\n",
            "[MlpReconstructWithAdapterAndConsistency] era 0506 | epoch   5/  5 | loss=0.545245\n",
            "[MlpReconstructWithAdapterAndConsistency] era 0507 | epoch   1/  5 | loss=0.674277\n",
            "[MlpReconstructWithAdapterAndConsistency] era 0507 | epoch   2/  5 | loss=0.626187\n",
            "[MlpReconstructWithAdapterAndConsistency] era 0507 | epoch   3/  5 | loss=0.591329\n",
            "[MlpReconstructWithAdapterAndConsistency] era 0507 | epoch   4/  5 | loss=0.561364\n",
            "[MlpReconstructWithAdapterAndConsistency] era 0507 | epoch   5/  5 | loss=0.537636\n",
            "[MlpReconstructWithAdapterAndConsistency] era 0508 | epoch   1/  5 | loss=0.702092\n",
            "[MlpReconstructWithAdapterAndConsistency] era 0508 | epoch   2/  5 | loss=0.651473\n",
            "[MlpReconstructWithAdapterAndConsistency] era 0508 | epoch   3/  5 | loss=0.607676\n",
            "[MlpReconstructWithAdapterAndConsistency] era 0508 | epoch   4/  5 | loss=0.575128\n",
            "[MlpReconstructWithAdapterAndConsistency] era 0508 | epoch   5/  5 | loss=0.545798\n",
            "[MlpReconstructWithAdapterAndConsistency] era 0509 | epoch   1/  5 | loss=0.690342\n",
            "[MlpReconstructWithAdapterAndConsistency] era 0509 | epoch   2/  5 | loss=0.626826\n",
            "[MlpReconstructWithAdapterAndConsistency] era 0509 | epoch   3/  5 | loss=0.598472\n",
            "[MlpReconstructWithAdapterAndConsistency] era 0509 | epoch   4/  5 | loss=0.575950\n",
            "[MlpReconstructWithAdapterAndConsistency] era 0509 | epoch   5/  5 | loss=0.547706\n",
            "[MlpReconstructWithAdapterAndConsistency] era 0510 | epoch   1/  5 | loss=0.694964\n",
            "[MlpReconstructWithAdapterAndConsistency] era 0510 | epoch   2/  5 | loss=0.638793\n",
            "[MlpReconstructWithAdapterAndConsistency] era 0510 | epoch   3/  5 | loss=0.606978\n",
            "[MlpReconstructWithAdapterAndConsistency] era 0510 | epoch   4/  5 | loss=0.573415\n",
            "[MlpReconstructWithAdapterAndConsistency] era 0510 | epoch   5/  5 | loss=0.544145\n",
            "[MlpReconstructWithAdapterAndConsistency] era 0511 | epoch   1/  5 | loss=0.674984\n",
            "[MlpReconstructWithAdapterAndConsistency] era 0511 | epoch   2/  5 | loss=0.619534\n",
            "[MlpReconstructWithAdapterAndConsistency] era 0511 | epoch   3/  5 | loss=0.582737\n",
            "[MlpReconstructWithAdapterAndConsistency] era 0511 | epoch   4/  5 | loss=0.549491\n",
            "[MlpReconstructWithAdapterAndConsistency] era 0511 | epoch   5/  5 | loss=0.524305\n",
            "[MlpReconstructWithAdapterAndConsistency] era 0512 | epoch   1/  5 | loss=0.703012\n",
            "[MlpReconstructWithAdapterAndConsistency] era 0512 | epoch   2/  5 | loss=0.651296\n",
            "[MlpReconstructWithAdapterAndConsistency] era 0512 | epoch   3/  5 | loss=0.617665\n",
            "[MlpReconstructWithAdapterAndConsistency] era 0512 | epoch   4/  5 | loss=0.578235\n",
            "[MlpReconstructWithAdapterAndConsistency] era 0512 | epoch   5/  5 | loss=0.551251\n",
            "[MlpReconstructWithAdapterAndConsistency] era 0513 | epoch   1/  5 | loss=0.704565\n",
            "[MlpReconstructWithAdapterAndConsistency] era 0513 | epoch   2/  5 | loss=0.650832\n",
            "[MlpReconstructWithAdapterAndConsistency] era 0513 | epoch   3/  5 | loss=0.606983\n",
            "[MlpReconstructWithAdapterAndConsistency] era 0513 | epoch   4/  5 | loss=0.588898\n",
            "[MlpReconstructWithAdapterAndConsistency] era 0513 | epoch   5/  5 | loss=0.554430\n",
            "[MlpReconstructWithAdapterAndConsistency] era 0514 | epoch   1/  5 | loss=0.711025\n",
            "[MlpReconstructWithAdapterAndConsistency] era 0514 | epoch   2/  5 | loss=0.654518\n",
            "[MlpReconstructWithAdapterAndConsistency] era 0514 | epoch   3/  5 | loss=0.612704\n",
            "[MlpReconstructWithAdapterAndConsistency] era 0514 | epoch   4/  5 | loss=0.577509\n",
            "[MlpReconstructWithAdapterAndConsistency] era 0514 | epoch   5/  5 | loss=0.551470\n",
            "[MlpReconstructWithAdapterAndConsistency] era 0515 | epoch   1/  5 | loss=0.691793\n",
            "[MlpReconstructWithAdapterAndConsistency] era 0515 | epoch   2/  5 | loss=0.637616\n",
            "[MlpReconstructWithAdapterAndConsistency] era 0515 | epoch   3/  5 | loss=0.587183\n",
            "[MlpReconstructWithAdapterAndConsistency] era 0515 | epoch   4/  5 | loss=0.563104\n",
            "[MlpReconstructWithAdapterAndConsistency] era 0515 | epoch   5/  5 | loss=0.539664\n",
            "[MlpReconstructWithAdapterAndConsistency] era 0516 | epoch   1/  5 | loss=0.661677\n",
            "[MlpReconstructWithAdapterAndConsistency] era 0516 | epoch   2/  5 | loss=0.619334\n",
            "[MlpReconstructWithAdapterAndConsistency] era 0516 | epoch   3/  5 | loss=0.577165\n",
            "[MlpReconstructWithAdapterAndConsistency] era 0516 | epoch   4/  5 | loss=0.542893\n",
            "[MlpReconstructWithAdapterAndConsistency] era 0516 | epoch   5/  5 | loss=0.518080\n",
            "[MlpReconstructWithAdapterAndConsistency] era 0517 | epoch   1/  5 | loss=0.685684\n",
            "[MlpReconstructWithAdapterAndConsistency] era 0517 | epoch   2/  5 | loss=0.634807\n",
            "[MlpReconstructWithAdapterAndConsistency] era 0517 | epoch   3/  5 | loss=0.600902\n",
            "[MlpReconstructWithAdapterAndConsistency] era 0517 | epoch   4/  5 | loss=0.571342\n",
            "[MlpReconstructWithAdapterAndConsistency] era 0517 | epoch   5/  5 | loss=0.543318\n",
            "[MlpReconstructWithAdapterAndConsistency] era 0518 | epoch   1/  5 | loss=0.676630\n",
            "[MlpReconstructWithAdapterAndConsistency] era 0518 | epoch   2/  5 | loss=0.628391\n",
            "[MlpReconstructWithAdapterAndConsistency] era 0518 | epoch   3/  5 | loss=0.595964\n",
            "[MlpReconstructWithAdapterAndConsistency] era 0518 | epoch   4/  5 | loss=0.557668\n",
            "[MlpReconstructWithAdapterAndConsistency] era 0518 | epoch   5/  5 | loss=0.534893\n",
            "[MlpReconstructWithAdapterAndConsistency] era 0519 | epoch   1/  5 | loss=0.686988\n",
            "[MlpReconstructWithAdapterAndConsistency] era 0519 | epoch   2/  5 | loss=0.633183\n",
            "[MlpReconstructWithAdapterAndConsistency] era 0519 | epoch   3/  5 | loss=0.591688\n",
            "[MlpReconstructWithAdapterAndConsistency] era 0519 | epoch   4/  5 | loss=0.560020\n",
            "[MlpReconstructWithAdapterAndConsistency] era 0519 | epoch   5/  5 | loss=0.537498\n",
            "[MlpReconstructWithAdapterAndConsistency] era 0520 | epoch   1/  5 | loss=0.683020\n",
            "[MlpReconstructWithAdapterAndConsistency] era 0520 | epoch   2/  5 | loss=0.630353\n",
            "[MlpReconstructWithAdapterAndConsistency] era 0520 | epoch   3/  5 | loss=0.590413\n",
            "[MlpReconstructWithAdapterAndConsistency] era 0520 | epoch   4/  5 | loss=0.564268\n",
            "[MlpReconstructWithAdapterAndConsistency] era 0520 | epoch   5/  5 | loss=0.535486\n",
            "[MlpReconstructWithAdapterAndConsistency] era 0521 | epoch   1/  5 | loss=0.705192\n",
            "[MlpReconstructWithAdapterAndConsistency] era 0521 | epoch   2/  5 | loss=0.652506\n",
            "[MlpReconstructWithAdapterAndConsistency] era 0521 | epoch   3/  5 | loss=0.611066\n",
            "[MlpReconstructWithAdapterAndConsistency] era 0521 | epoch   4/  5 | loss=0.579506\n",
            "[MlpReconstructWithAdapterAndConsistency] era 0521 | epoch   5/  5 | loss=0.541352\n",
            "[MlpReconstructWithAdapterAndConsistency] era 0522 | epoch   1/  5 | loss=0.684853\n",
            "[MlpReconstructWithAdapterAndConsistency] era 0522 | epoch   2/  5 | loss=0.646751\n",
            "[MlpReconstructWithAdapterAndConsistency] era 0522 | epoch   3/  5 | loss=0.591958\n",
            "[MlpReconstructWithAdapterAndConsistency] era 0522 | epoch   4/  5 | loss=0.564304\n",
            "[MlpReconstructWithAdapterAndConsistency] era 0522 | epoch   5/  5 | loss=0.542086\n",
            "[MlpReconstructWithAdapterAndConsistency] era 0523 | epoch   1/  5 | loss=0.695453\n",
            "[MlpReconstructWithAdapterAndConsistency] era 0523 | epoch   2/  5 | loss=0.642794\n",
            "[MlpReconstructWithAdapterAndConsistency] era 0523 | epoch   3/  5 | loss=0.595151\n",
            "[MlpReconstructWithAdapterAndConsistency] era 0523 | epoch   4/  5 | loss=0.568264\n",
            "[MlpReconstructWithAdapterAndConsistency] era 0523 | epoch   5/  5 | loss=0.535985\n",
            "[MlpReconstructWithAdapterAndConsistency] era 0524 | epoch   1/  5 | loss=0.709687\n",
            "[MlpReconstructWithAdapterAndConsistency] era 0524 | epoch   2/  5 | loss=0.662851\n",
            "[MlpReconstructWithAdapterAndConsistency] era 0524 | epoch   3/  5 | loss=0.615874\n",
            "[MlpReconstructWithAdapterAndConsistency] era 0524 | epoch   4/  5 | loss=0.579458\n",
            "[MlpReconstructWithAdapterAndConsistency] era 0524 | epoch   5/  5 | loss=0.551767\n",
            "[MlpReconstructWithAdapterAndConsistency] era 0525 | epoch   1/  5 | loss=0.704342\n",
            "[MlpReconstructWithAdapterAndConsistency] era 0525 | epoch   2/  5 | loss=0.650033\n",
            "[MlpReconstructWithAdapterAndConsistency] era 0525 | epoch   3/  5 | loss=0.609409\n",
            "[MlpReconstructWithAdapterAndConsistency] era 0525 | epoch   4/  5 | loss=0.583735\n",
            "[MlpReconstructWithAdapterAndConsistency] era 0525 | epoch   5/  5 | loss=0.554021\n",
            "[MlpReconstructWithAdapterAndConsistency] era 0526 | epoch   1/  5 | loss=0.697211\n",
            "[MlpReconstructWithAdapterAndConsistency] era 0526 | epoch   2/  5 | loss=0.651352\n",
            "[MlpReconstructWithAdapterAndConsistency] era 0526 | epoch   3/  5 | loss=0.606503\n",
            "[MlpReconstructWithAdapterAndConsistency] era 0526 | epoch   4/  5 | loss=0.582220\n",
            "[MlpReconstructWithAdapterAndConsistency] era 0526 | epoch   5/  5 | loss=0.547970\n",
            "[MlpReconstructWithAdapterAndConsistency] era 0527 | epoch   1/  5 | loss=0.705183\n",
            "[MlpReconstructWithAdapterAndConsistency] era 0527 | epoch   2/  5 | loss=0.643648\n",
            "[MlpReconstructWithAdapterAndConsistency] era 0527 | epoch   3/  5 | loss=0.607416\n",
            "[MlpReconstructWithAdapterAndConsistency] era 0527 | epoch   4/  5 | loss=0.582630\n",
            "[MlpReconstructWithAdapterAndConsistency] era 0527 | epoch   5/  5 | loss=0.559738\n",
            "[MlpReconstructWithAdapterAndConsistency] era 0528 | epoch   1/  5 | loss=0.689345\n",
            "[MlpReconstructWithAdapterAndConsistency] era 0528 | epoch   2/  5 | loss=0.645349\n",
            "[MlpReconstructWithAdapterAndConsistency] era 0528 | epoch   3/  5 | loss=0.600811\n",
            "[MlpReconstructWithAdapterAndConsistency] era 0528 | epoch   4/  5 | loss=0.574761\n",
            "[MlpReconstructWithAdapterAndConsistency] era 0528 | epoch   5/  5 | loss=0.549801\n",
            "[MlpReconstructWithAdapterAndConsistency] era 0529 | epoch   1/  5 | loss=0.691130\n",
            "[MlpReconstructWithAdapterAndConsistency] era 0529 | epoch   2/  5 | loss=0.636751\n",
            "[MlpReconstructWithAdapterAndConsistency] era 0529 | epoch   3/  5 | loss=0.602086\n",
            "[MlpReconstructWithAdapterAndConsistency] era 0529 | epoch   4/  5 | loss=0.560745\n",
            "[MlpReconstructWithAdapterAndConsistency] era 0529 | epoch   5/  5 | loss=0.549072\n",
            "[MlpReconstructWithAdapterAndConsistency] era 0530 | epoch   1/  5 | loss=0.682522\n",
            "[MlpReconstructWithAdapterAndConsistency] era 0530 | epoch   2/  5 | loss=0.632101\n",
            "[MlpReconstructWithAdapterAndConsistency] era 0530 | epoch   3/  5 | loss=0.608105\n",
            "[MlpReconstructWithAdapterAndConsistency] era 0530 | epoch   4/  5 | loss=0.568337\n",
            "[MlpReconstructWithAdapterAndConsistency] era 0530 | epoch   5/  5 | loss=0.542558\n",
            "[MlpReconstructWithAdapterAndConsistency] era 0531 | epoch   1/  5 | loss=0.690272\n",
            "[MlpReconstructWithAdapterAndConsistency] era 0531 | epoch   2/  5 | loss=0.634638\n",
            "[MlpReconstructWithAdapterAndConsistency] era 0531 | epoch   3/  5 | loss=0.606419\n",
            "[MlpReconstructWithAdapterAndConsistency] era 0531 | epoch   4/  5 | loss=0.573512\n",
            "[MlpReconstructWithAdapterAndConsistency] era 0531 | epoch   5/  5 | loss=0.551945\n",
            "[MlpReconstructWithAdapterAndConsistency] era 0532 | epoch   1/  5 | loss=0.678015\n",
            "[MlpReconstructWithAdapterAndConsistency] era 0532 | epoch   2/  5 | loss=0.632201\n",
            "[MlpReconstructWithAdapterAndConsistency] era 0532 | epoch   3/  5 | loss=0.597565\n",
            "[MlpReconstructWithAdapterAndConsistency] era 0532 | epoch   4/  5 | loss=0.558619\n",
            "[MlpReconstructWithAdapterAndConsistency] era 0532 | epoch   5/  5 | loss=0.535391\n",
            "[MlpReconstructWithAdapterAndConsistency] era 0533 | epoch   1/  5 | loss=0.683295\n",
            "[MlpReconstructWithAdapterAndConsistency] era 0533 | epoch   2/  5 | loss=0.621636\n",
            "[MlpReconstructWithAdapterAndConsistency] era 0533 | epoch   3/  5 | loss=0.594478\n",
            "[MlpReconstructWithAdapterAndConsistency] era 0533 | epoch   4/  5 | loss=0.557355\n",
            "[MlpReconstructWithAdapterAndConsistency] era 0533 | epoch   5/  5 | loss=0.528438\n",
            "[MlpReconstructWithAdapterAndConsistency] era 0534 | epoch   1/  5 | loss=0.686400\n",
            "[MlpReconstructWithAdapterAndConsistency] era 0534 | epoch   2/  5 | loss=0.642196\n",
            "[MlpReconstructWithAdapterAndConsistency] era 0534 | epoch   3/  5 | loss=0.593655\n",
            "[MlpReconstructWithAdapterAndConsistency] era 0534 | epoch   4/  5 | loss=0.568826\n",
            "[MlpReconstructWithAdapterAndConsistency] era 0534 | epoch   5/  5 | loss=0.536999\n",
            "[MlpReconstructWithAdapterAndConsistency] era 0535 | epoch   1/  5 | loss=0.690457\n",
            "[MlpReconstructWithAdapterAndConsistency] era 0535 | epoch   2/  5 | loss=0.636528\n",
            "[MlpReconstructWithAdapterAndConsistency] era 0535 | epoch   3/  5 | loss=0.600521\n",
            "[MlpReconstructWithAdapterAndConsistency] era 0535 | epoch   4/  5 | loss=0.570714\n",
            "[MlpReconstructWithAdapterAndConsistency] era 0535 | epoch   5/  5 | loss=0.535833\n",
            "[MlpReconstructWithAdapterAndConsistency] era 0536 | epoch   1/  5 | loss=0.666877\n",
            "[MlpReconstructWithAdapterAndConsistency] era 0536 | epoch   2/  5 | loss=0.620592\n",
            "[MlpReconstructWithAdapterAndConsistency] era 0536 | epoch   3/  5 | loss=0.576418\n",
            "[MlpReconstructWithAdapterAndConsistency] era 0536 | epoch   4/  5 | loss=0.551458\n",
            "[MlpReconstructWithAdapterAndConsistency] era 0536 | epoch   5/  5 | loss=0.520310\n",
            "[MlpReconstructWithAdapterAndConsistency] era 0537 | epoch   1/  5 | loss=0.657815\n",
            "[MlpReconstructWithAdapterAndConsistency] era 0537 | epoch   2/  5 | loss=0.612730\n",
            "[MlpReconstructWithAdapterAndConsistency] era 0537 | epoch   3/  5 | loss=0.575029\n",
            "[MlpReconstructWithAdapterAndConsistency] era 0537 | epoch   4/  5 | loss=0.550509\n",
            "[MlpReconstructWithAdapterAndConsistency] era 0537 | epoch   5/  5 | loss=0.526861\n",
            "[MlpReconstructWithAdapterAndConsistency] era 0538 | epoch   1/  5 | loss=0.684754\n",
            "[MlpReconstructWithAdapterAndConsistency] era 0538 | epoch   2/  5 | loss=0.649482\n",
            "[MlpReconstructWithAdapterAndConsistency] era 0538 | epoch   3/  5 | loss=0.606508\n",
            "[MlpReconstructWithAdapterAndConsistency] era 0538 | epoch   4/  5 | loss=0.560886\n",
            "[MlpReconstructWithAdapterAndConsistency] era 0538 | epoch   5/  5 | loss=0.539915\n",
            "[MlpReconstructWithAdapterAndConsistency] era 0539 | epoch   1/  5 | loss=0.684577\n",
            "[MlpReconstructWithAdapterAndConsistency] era 0539 | epoch   2/  5 | loss=0.631768\n",
            "[MlpReconstructWithAdapterAndConsistency] era 0539 | epoch   3/  5 | loss=0.600259\n",
            "[MlpReconstructWithAdapterAndConsistency] era 0539 | epoch   4/  5 | loss=0.554673\n",
            "[MlpReconstructWithAdapterAndConsistency] era 0539 | epoch   5/  5 | loss=0.529517\n",
            "[MlpReconstructWithAdapterAndConsistency] era 0540 | epoch   1/  5 | loss=0.694659\n",
            "[MlpReconstructWithAdapterAndConsistency] era 0540 | epoch   2/  5 | loss=0.640929\n",
            "[MlpReconstructWithAdapterAndConsistency] era 0540 | epoch   3/  5 | loss=0.616158\n",
            "[MlpReconstructWithAdapterAndConsistency] era 0540 | epoch   4/  5 | loss=0.579177\n",
            "[MlpReconstructWithAdapterAndConsistency] era 0540 | epoch   5/  5 | loss=0.553410\n",
            "[MlpReconstructWithAdapterAndConsistency] era 0541 | epoch   1/  5 | loss=0.700529\n",
            "[MlpReconstructWithAdapterAndConsistency] era 0541 | epoch   2/  5 | loss=0.649154\n",
            "[MlpReconstructWithAdapterAndConsistency] era 0541 | epoch   3/  5 | loss=0.608139\n",
            "[MlpReconstructWithAdapterAndConsistency] era 0541 | epoch   4/  5 | loss=0.585278\n",
            "[MlpReconstructWithAdapterAndConsistency] era 0541 | epoch   5/  5 | loss=0.549786\n",
            "[MlpReconstructWithAdapterAndConsistency] era 0542 | epoch   1/  5 | loss=0.664611\n",
            "[MlpReconstructWithAdapterAndConsistency] era 0542 | epoch   2/  5 | loss=0.624375\n",
            "[MlpReconstructWithAdapterAndConsistency] era 0542 | epoch   3/  5 | loss=0.581585\n",
            "[MlpReconstructWithAdapterAndConsistency] era 0542 | epoch   4/  5 | loss=0.548347\n",
            "[MlpReconstructWithAdapterAndConsistency] era 0542 | epoch   5/  5 | loss=0.525925\n",
            "[MlpReconstructWithAdapterAndConsistency] era 0543 | epoch   1/  5 | loss=0.682775\n",
            "[MlpReconstructWithAdapterAndConsistency] era 0543 | epoch   2/  5 | loss=0.643017\n",
            "[MlpReconstructWithAdapterAndConsistency] era 0543 | epoch   3/  5 | loss=0.615841\n",
            "[MlpReconstructWithAdapterAndConsistency] era 0543 | epoch   4/  5 | loss=0.569377\n",
            "[MlpReconstructWithAdapterAndConsistency] era 0543 | epoch   5/  5 | loss=0.542431\n",
            "[MlpReconstructWithAdapterAndConsistency] era 0544 | epoch   1/  5 | loss=0.691136\n",
            "[MlpReconstructWithAdapterAndConsistency] era 0544 | epoch   2/  5 | loss=0.635929\n",
            "[MlpReconstructWithAdapterAndConsistency] era 0544 | epoch   3/  5 | loss=0.597622\n",
            "[MlpReconstructWithAdapterAndConsistency] era 0544 | epoch   4/  5 | loss=0.562122\n",
            "[MlpReconstructWithAdapterAndConsistency] era 0544 | epoch   5/  5 | loss=0.546628\n",
            "[MlpReconstructWithAdapterAndConsistency] era 0545 | epoch   1/  5 | loss=0.653660\n",
            "[MlpReconstructWithAdapterAndConsistency] era 0545 | epoch   2/  5 | loss=0.617954\n",
            "[MlpReconstructWithAdapterAndConsistency] era 0545 | epoch   3/  5 | loss=0.575569\n",
            "[MlpReconstructWithAdapterAndConsistency] era 0545 | epoch   4/  5 | loss=0.550002\n",
            "[MlpReconstructWithAdapterAndConsistency] era 0545 | epoch   5/  5 | loss=0.516123\n",
            "[MlpReconstructWithAdapterAndConsistency] era 0546 | epoch   1/  5 | loss=0.678293\n",
            "[MlpReconstructWithAdapterAndConsistency] era 0546 | epoch   2/  5 | loss=0.638903\n",
            "[MlpReconstructWithAdapterAndConsistency] era 0546 | epoch   3/  5 | loss=0.601953\n",
            "[MlpReconstructWithAdapterAndConsistency] era 0546 | epoch   4/  5 | loss=0.564034\n",
            "[MlpReconstructWithAdapterAndConsistency] era 0546 | epoch   5/  5 | loss=0.549759\n",
            "[MlpReconstructWithAdapterAndConsistency] era 0547 | epoch   1/  5 | loss=0.685066\n",
            "[MlpReconstructWithAdapterAndConsistency] era 0547 | epoch   2/  5 | loss=0.632019\n",
            "[MlpReconstructWithAdapterAndConsistency] era 0547 | epoch   3/  5 | loss=0.596321\n",
            "[MlpReconstructWithAdapterAndConsistency] era 0547 | epoch   4/  5 | loss=0.569999\n",
            "[MlpReconstructWithAdapterAndConsistency] era 0547 | epoch   5/  5 | loss=0.541682\n",
            "[MlpReconstructWithAdapterAndConsistency] era 0548 | epoch   1/  5 | loss=0.675985\n",
            "[MlpReconstructWithAdapterAndConsistency] era 0548 | epoch   2/  5 | loss=0.625473\n",
            "[MlpReconstructWithAdapterAndConsistency] era 0548 | epoch   3/  5 | loss=0.590435\n",
            "[MlpReconstructWithAdapterAndConsistency] era 0548 | epoch   4/  5 | loss=0.557639\n",
            "[MlpReconstructWithAdapterAndConsistency] era 0548 | epoch   5/  5 | loss=0.536055\n",
            "[MlpReconstructWithAdapterAndConsistency] era 0549 | epoch   1/  5 | loss=0.682754\n",
            "[MlpReconstructWithAdapterAndConsistency] era 0549 | epoch   2/  5 | loss=0.630335\n",
            "[MlpReconstructWithAdapterAndConsistency] era 0549 | epoch   3/  5 | loss=0.596749\n",
            "[MlpReconstructWithAdapterAndConsistency] era 0549 | epoch   4/  5 | loss=0.557147\n",
            "[MlpReconstructWithAdapterAndConsistency] era 0549 | epoch   5/  5 | loss=0.528901\n"
          ]
        }
      ]
    },
    {
      "cell_type": "code",
      "source": [
        "df_train_preds = pd.DataFrame(\n",
        "    data = {\n",
        "        'era': [str(era).zfill(4) for era in used_train_eras],\n",
        "        'target': train_targets,\n",
        "        MODEL_NAME: train_predictions\n",
        "    }\n",
        ")"
      ],
      "metadata": {
        "id": "Fy6bwxjatn4k"
      },
      "execution_count": 67,
      "outputs": []
    },
    {
      "cell_type": "code",
      "source": [
        "df_train_preds[MODEL_NAME].describe()"
      ],
      "metadata": {
        "id": "bfp1PiUft_iQ",
        "colab": {
          "base_uri": "https://localhost:8080/",
          "height": 335
        },
        "outputId": "28b7810e-c88c-4cfb-847f-4bdb9e97b8f5"
      },
      "execution_count": 68,
      "outputs": [
        {
          "output_type": "execute_result",
          "data": {
            "text/plain": [
              "count    8000.000000\n",
              "mean       -0.354227\n",
              "std         3.750492\n",
              "min       -14.687500\n",
              "25%        -2.812500\n",
              "50%        -0.351562\n",
              "75%         2.140625\n",
              "max        13.687500\n",
              "Name: RANK_MLP_SMALL, dtype: float64"
            ],
            "text/html": [
              "<div>\n",
              "<style scoped>\n",
              "    .dataframe tbody tr th:only-of-type {\n",
              "        vertical-align: middle;\n",
              "    }\n",
              "\n",
              "    .dataframe tbody tr th {\n",
              "        vertical-align: top;\n",
              "    }\n",
              "\n",
              "    .dataframe thead th {\n",
              "        text-align: right;\n",
              "    }\n",
              "</style>\n",
              "<table border=\"1\" class=\"dataframe\">\n",
              "  <thead>\n",
              "    <tr style=\"text-align: right;\">\n",
              "      <th></th>\n",
              "      <th>RANK_MLP_SMALL</th>\n",
              "    </tr>\n",
              "  </thead>\n",
              "  <tbody>\n",
              "    <tr>\n",
              "      <th>count</th>\n",
              "      <td>8000.000000</td>\n",
              "    </tr>\n",
              "    <tr>\n",
              "      <th>mean</th>\n",
              "      <td>-0.354227</td>\n",
              "    </tr>\n",
              "    <tr>\n",
              "      <th>std</th>\n",
              "      <td>3.750492</td>\n",
              "    </tr>\n",
              "    <tr>\n",
              "      <th>min</th>\n",
              "      <td>-14.687500</td>\n",
              "    </tr>\n",
              "    <tr>\n",
              "      <th>25%</th>\n",
              "      <td>-2.812500</td>\n",
              "    </tr>\n",
              "    <tr>\n",
              "      <th>50%</th>\n",
              "      <td>-0.351562</td>\n",
              "    </tr>\n",
              "    <tr>\n",
              "      <th>75%</th>\n",
              "      <td>2.140625</td>\n",
              "    </tr>\n",
              "    <tr>\n",
              "      <th>max</th>\n",
              "      <td>13.687500</td>\n",
              "    </tr>\n",
              "  </tbody>\n",
              "</table>\n",
              "</div><br><label><b>dtype:</b> float64</label>"
            ]
          },
          "metadata": {},
          "execution_count": 68
        }
      ]
    },
    {
      "cell_type": "code",
      "source": [
        "sns.set(style=\"darkgrid\", context=\"talk\", palette=\"rainbow\", font_scale=.7)\n",
        "sns.histplot(data=df_train_preds, x=MODEL_NAME, bins=200)\n",
        "\n",
        "# Customize the plot to match your original settings\n",
        "plt.title(\"Train predictions\")\n",
        "plt.xlabel('Observation')   # Remove x-axis label\n",
        "plt.ylabel('')  # Optional: Set y-axis label\n",
        "plt.legend([], [], frameon=False)  # Remove legend\n",
        "plt.tight_layout()\n",
        "plt.show()"
      ],
      "metadata": {
        "id": "4FPlDwoUsNfV",
        "colab": {
          "base_uri": "https://localhost:8080/",
          "height": 491
        },
        "outputId": "c8be7952-1627-47e8-85f1-52694d8c2517"
      },
      "execution_count": 69,
      "outputs": [
        {
          "output_type": "display_data",
          "data": {
            "text/plain": [
              "<Figure size 1000x500 with 1 Axes>"
            ],
            "image/png": "[encoded data removed]"
          },
          "metadata": {}
        }
      ]
    },
    {
      "cell_type": "code",
      "execution_count": 70,
      "metadata": {
        "id": "zox0obM3Kh41",
        "colab": {
          "base_uri": "https://localhost:8080/",
          "height": 491
        },
        "outputId": "15d4c87b-c232-4f95-8f60-760bfd27ee5d"
      },
      "outputs": [
        {
          "output_type": "display_data",
          "data": {
            "text/plain": [
              "<Figure size 1000x500 with 1 Axes>"
            ],
            "image/png": "[encoded data removed]"
          },
          "metadata": {}
        }
      ],
      "source": [
        "per_era_corr = df_train_preds.groupby(\"era\").apply(\n",
        "    lambda x: numerai_corr(x[[MODEL_NAME]].dropna(), x['target'].dropna()),\n",
        "    include_groups=False\n",
        ")\n",
        "\n",
        "sns.set(style=\"darkgrid\", context=\"talk\", palette=\"rainbow\", font_scale=.7)\n",
        "sns.barplot(data=per_era_corr, x='era', y=MODEL_NAME)\n",
        "\n",
        "# Customize the plot to match your original settings\n",
        "plt.title(\"Train CORR\")\n",
        "plt.xticks([])  # Remove x-tick labels\n",
        "plt.xlabel('era')   # Remove x-axis label\n",
        "plt.ylabel('')  # Optional: Set y-axis label\n",
        "plt.legend([], [], frameon=False)  # Remove legend\n",
        "plt.tight_layout()\n",
        "plt.show()"
      ]
    },
    {
      "cell_type": "code",
      "source": [
        "sns.set(style=\"darkgrid\", context=\"talk\", palette=\"rainbow\", font_scale=.7)\n",
        "sns.lineplot(data=per_era_corr.cumsum(), x='era', y=MODEL_NAME)\n",
        "\n",
        "# Customize the plot to match your original settings\n",
        "plt.title(\"Cumulative Train CORR\")\n",
        "plt.xticks([])  # Remove x-tick labels\n",
        "plt.xlabel('era')   # Remove x-axis label\n",
        "plt.ylabel('')  # Optional: Set y-axis label\n",
        "plt.legend([], [], frameon=False)  # Remove legend\n",
        "plt.tight_layout()\n",
        "plt.show()"
      ],
      "metadata": {
        "id": "jwZlqthRh4DH",
        "colab": {
          "base_uri": "https://localhost:8080/",
          "height": 491
        },
        "outputId": "25b6634d-4d58-4318-f228-537b74de0415"
      },
      "execution_count": 71,
      "outputs": [
        {
          "output_type": "display_data",
          "data": {
            "text/plain": [
              "<Figure size 1000x500 with 1 Axes>"
            ],
            "image/png": "[encoded data removed]"
          },
          "metadata": {}
        }
      ]
    },
    {
      "cell_type": "markdown",
      "source": [
        "----"
      ],
      "metadata": {
        "id": "DwfIv089h6fp"
      }
    },
    {
      "cell_type": "code",
      "source": [
        "valid_predictions = []\n",
        "valid_targets = []\n",
        "used_valid_eras = []\n",
        "\n",
        "inference_valid_eras = list(inference_valid_dataset.era_to_pairs.keys())\n",
        "for era in inference_valid_eras:\n",
        "    inference_valid_dataset.set_era(era)\n",
        "\n",
        "    reg_model_with_adapter, inference_data = run_inference_with_adapter_model(\n",
        "        reg_model, config, inference_valid_loader, 5, era)\n",
        "\n",
        "    predictions, targets, eras = inference_data\n",
        "    valid_predictions.append(predictions.numpy())\n",
        "    valid_targets.append(targets.numpy())\n",
        "    used_valid_eras.append(eras.numpy())\n",
        "\n",
        "valid_predictions = np.concatenate(valid_predictions, axis=0)\n",
        "valid_targets = np.concatenate(valid_targets, axis=0)\n",
        "used_valid_eras = np.concatenate(used_valid_eras, axis=0)"
      ],
      "metadata": {
        "colab": {
          "base_uri": "https://localhost:8080/"
        },
        "id": "EzRUS1L6LgN5",
        "outputId": "adc25179-f0a2-4f08-9763-a6d778831165"
      },
      "execution_count": 72,
      "outputs": [
        {
          "output_type": "stream",
          "name": "stdout",
          "text": [
            "[MlpReconstructWithAdapterAndConsistency] era 0975 | epoch   1/  5 | loss=0.700381\n",
            "[MlpReconstructWithAdapterAndConsistency] era 0975 | epoch   2/  5 | loss=0.656177\n",
            "[MlpReconstructWithAdapterAndConsistency] era 0975 | epoch   3/  5 | loss=0.619139\n",
            "[MlpReconstructWithAdapterAndConsistency] era 0975 | epoch   4/  5 | loss=0.597139\n",
            "[MlpReconstructWithAdapterAndConsistency] era 0975 | epoch   5/  5 | loss=0.571052\n",
            "[MlpReconstructWithAdapterAndConsistency] era 0976 | epoch   1/  5 | loss=0.695676\n",
            "[MlpReconstructWithAdapterAndConsistency] era 0976 | epoch   2/  5 | loss=0.661808\n",
            "[MlpReconstructWithAdapterAndConsistency] era 0976 | epoch   3/  5 | loss=0.625381\n",
            "[MlpReconstructWithAdapterAndConsistency] era 0976 | epoch   4/  5 | loss=0.588149\n",
            "[MlpReconstructWithAdapterAndConsistency] era 0976 | epoch   5/  5 | loss=0.570430\n",
            "[MlpReconstructWithAdapterAndConsistency] era 0977 | epoch   1/  5 | loss=0.703778\n",
            "[MlpReconstructWithAdapterAndConsistency] era 0977 | epoch   2/  5 | loss=0.661670\n",
            "[MlpReconstructWithAdapterAndConsistency] era 0977 | epoch   3/  5 | loss=0.621629\n",
            "[MlpReconstructWithAdapterAndConsistency] era 0977 | epoch   4/  5 | loss=0.590439\n",
            "[MlpReconstructWithAdapterAndConsistency] era 0977 | epoch   5/  5 | loss=0.571661\n",
            "[MlpReconstructWithAdapterAndConsistency] era 0978 | epoch   1/  5 | loss=0.679849\n",
            "[MlpReconstructWithAdapterAndConsistency] era 0978 | epoch   2/  5 | loss=0.641310\n",
            "[MlpReconstructWithAdapterAndConsistency] era 0978 | epoch   3/  5 | loss=0.599422\n",
            "[MlpReconstructWithAdapterAndConsistency] era 0978 | epoch   4/  5 | loss=0.570725\n",
            "[MlpReconstructWithAdapterAndConsistency] era 0978 | epoch   5/  5 | loss=0.547520\n",
            "[MlpReconstructWithAdapterAndConsistency] era 0979 | epoch   1/  5 | loss=0.703141\n",
            "[MlpReconstructWithAdapterAndConsistency] era 0979 | epoch   2/  5 | loss=0.649934\n",
            "[MlpReconstructWithAdapterAndConsistency] era 0979 | epoch   3/  5 | loss=0.617135\n",
            "[MlpReconstructWithAdapterAndConsistency] era 0979 | epoch   4/  5 | loss=0.585443\n",
            "[MlpReconstructWithAdapterAndConsistency] era 0979 | epoch   5/  5 | loss=0.561613\n",
            "[MlpReconstructWithAdapterAndConsistency] era 0980 | epoch   1/  5 | loss=0.693039\n",
            "[MlpReconstructWithAdapterAndConsistency] era 0980 | epoch   2/  5 | loss=0.651728\n",
            "[MlpReconstructWithAdapterAndConsistency] era 0980 | epoch   3/  5 | loss=0.613950\n",
            "[MlpReconstructWithAdapterAndConsistency] era 0980 | epoch   4/  5 | loss=0.584360\n",
            "[MlpReconstructWithAdapterAndConsistency] era 0980 | epoch   5/  5 | loss=0.567513\n",
            "[MlpReconstructWithAdapterAndConsistency] era 0981 | epoch   1/  5 | loss=0.701166\n",
            "[MlpReconstructWithAdapterAndConsistency] era 0981 | epoch   2/  5 | loss=0.659662\n",
            "[MlpReconstructWithAdapterAndConsistency] era 0981 | epoch   3/  5 | loss=0.624169\n",
            "[MlpReconstructWithAdapterAndConsistency] era 0981 | epoch   4/  5 | loss=0.588960\n",
            "[MlpReconstructWithAdapterAndConsistency] era 0981 | epoch   5/  5 | loss=0.557330\n",
            "[MlpReconstructWithAdapterAndConsistency] era 0982 | epoch   1/  5 | loss=0.679541\n",
            "[MlpReconstructWithAdapterAndConsistency] era 0982 | epoch   2/  5 | loss=0.639348\n",
            "[MlpReconstructWithAdapterAndConsistency] era 0982 | epoch   3/  5 | loss=0.598681\n",
            "[MlpReconstructWithAdapterAndConsistency] era 0982 | epoch   4/  5 | loss=0.586429\n",
            "[MlpReconstructWithAdapterAndConsistency] era 0982 | epoch   5/  5 | loss=0.557180\n",
            "[MlpReconstructWithAdapterAndConsistency] era 0983 | epoch   1/  5 | loss=0.713060\n",
            "[MlpReconstructWithAdapterAndConsistency] era 0983 | epoch   2/  5 | loss=0.669059\n",
            "[MlpReconstructWithAdapterAndConsistency] era 0983 | epoch   3/  5 | loss=0.631080\n",
            "[MlpReconstructWithAdapterAndConsistency] era 0983 | epoch   4/  5 | loss=0.599597\n",
            "[MlpReconstructWithAdapterAndConsistency] era 0983 | epoch   5/  5 | loss=0.577920\n",
            "[MlpReconstructWithAdapterAndConsistency] era 0984 | epoch   1/  5 | loss=0.710362\n",
            "[MlpReconstructWithAdapterAndConsistency] era 0984 | epoch   2/  5 | loss=0.655421\n",
            "[MlpReconstructWithAdapterAndConsistency] era 0984 | epoch   3/  5 | loss=0.617601\n",
            "[MlpReconstructWithAdapterAndConsistency] era 0984 | epoch   4/  5 | loss=0.590441\n",
            "[MlpReconstructWithAdapterAndConsistency] era 0984 | epoch   5/  5 | loss=0.567252\n",
            "[MlpReconstructWithAdapterAndConsistency] era 0985 | epoch   1/  5 | loss=0.723247\n",
            "[MlpReconstructWithAdapterAndConsistency] era 0985 | epoch   2/  5 | loss=0.666663\n",
            "[MlpReconstructWithAdapterAndConsistency] era 0985 | epoch   3/  5 | loss=0.631862\n",
            "[MlpReconstructWithAdapterAndConsistency] era 0985 | epoch   4/  5 | loss=0.598009\n",
            "[MlpReconstructWithAdapterAndConsistency] era 0985 | epoch   5/  5 | loss=0.570362\n",
            "[MlpReconstructWithAdapterAndConsistency] era 0986 | epoch   1/  5 | loss=0.687813\n",
            "[MlpReconstructWithAdapterAndConsistency] era 0986 | epoch   2/  5 | loss=0.653698\n",
            "[MlpReconstructWithAdapterAndConsistency] era 0986 | epoch   3/  5 | loss=0.616165\n",
            "[MlpReconstructWithAdapterAndConsistency] era 0986 | epoch   4/  5 | loss=0.581721\n",
            "[MlpReconstructWithAdapterAndConsistency] era 0986 | epoch   5/  5 | loss=0.563635\n",
            "[MlpReconstructWithAdapterAndConsistency] era 0987 | epoch   1/  5 | loss=0.706984\n",
            "[MlpReconstructWithAdapterAndConsistency] era 0987 | epoch   2/  5 | loss=0.654694\n",
            "[MlpReconstructWithAdapterAndConsistency] era 0987 | epoch   3/  5 | loss=0.619332\n",
            "[MlpReconstructWithAdapterAndConsistency] era 0987 | epoch   4/  5 | loss=0.587486\n",
            "[MlpReconstructWithAdapterAndConsistency] era 0987 | epoch   5/  5 | loss=0.567730\n",
            "[MlpReconstructWithAdapterAndConsistency] era 0988 | epoch   1/  5 | loss=0.712440\n",
            "[MlpReconstructWithAdapterAndConsistency] era 0988 | epoch   2/  5 | loss=0.656016\n",
            "[MlpReconstructWithAdapterAndConsistency] era 0988 | epoch   3/  5 | loss=0.628431\n",
            "[MlpReconstructWithAdapterAndConsistency] era 0988 | epoch   4/  5 | loss=0.587392\n",
            "[MlpReconstructWithAdapterAndConsistency] era 0988 | epoch   5/  5 | loss=0.576315\n",
            "[MlpReconstructWithAdapterAndConsistency] era 0989 | epoch   1/  5 | loss=0.699354\n",
            "[MlpReconstructWithAdapterAndConsistency] era 0989 | epoch   2/  5 | loss=0.657741\n",
            "[MlpReconstructWithAdapterAndConsistency] era 0989 | epoch   3/  5 | loss=0.612186\n",
            "[MlpReconstructWithAdapterAndConsistency] era 0989 | epoch   4/  5 | loss=0.579217\n",
            "[MlpReconstructWithAdapterAndConsistency] era 0989 | epoch   5/  5 | loss=0.565942\n",
            "[MlpReconstructWithAdapterAndConsistency] era 0990 | epoch   1/  5 | loss=0.704845\n",
            "[MlpReconstructWithAdapterAndConsistency] era 0990 | epoch   2/  5 | loss=0.668042\n",
            "[MlpReconstructWithAdapterAndConsistency] era 0990 | epoch   3/  5 | loss=0.612774\n",
            "[MlpReconstructWithAdapterAndConsistency] era 0990 | epoch   4/  5 | loss=0.591172\n",
            "[MlpReconstructWithAdapterAndConsistency] era 0990 | epoch   5/  5 | loss=0.561168\n",
            "[MlpReconstructWithAdapterAndConsistency] era 0991 | epoch   1/  5 | loss=0.688188\n",
            "[MlpReconstructWithAdapterAndConsistency] era 0991 | epoch   2/  5 | loss=0.643539\n",
            "[MlpReconstructWithAdapterAndConsistency] era 0991 | epoch   3/  5 | loss=0.616347\n",
            "[MlpReconstructWithAdapterAndConsistency] era 0991 | epoch   4/  5 | loss=0.580360\n",
            "[MlpReconstructWithAdapterAndConsistency] era 0991 | epoch   5/  5 | loss=0.546509\n",
            "[MlpReconstructWithAdapterAndConsistency] era 0992 | epoch   1/  5 | loss=0.697702\n",
            "[MlpReconstructWithAdapterAndConsistency] era 0992 | epoch   2/  5 | loss=0.652984\n",
            "[MlpReconstructWithAdapterAndConsistency] era 0992 | epoch   3/  5 | loss=0.622667\n",
            "[MlpReconstructWithAdapterAndConsistency] era 0992 | epoch   4/  5 | loss=0.600030\n",
            "[MlpReconstructWithAdapterAndConsistency] era 0992 | epoch   5/  5 | loss=0.568677\n",
            "[MlpReconstructWithAdapterAndConsistency] era 0993 | epoch   1/  5 | loss=0.701160\n",
            "[MlpReconstructWithAdapterAndConsistency] era 0993 | epoch   2/  5 | loss=0.655909\n",
            "[MlpReconstructWithAdapterAndConsistency] era 0993 | epoch   3/  5 | loss=0.625610\n",
            "[MlpReconstructWithAdapterAndConsistency] era 0993 | epoch   4/  5 | loss=0.586610\n",
            "[MlpReconstructWithAdapterAndConsistency] era 0993 | epoch   5/  5 | loss=0.574475\n",
            "[MlpReconstructWithAdapterAndConsistency] era 0994 | epoch   1/  5 | loss=0.695671\n",
            "[MlpReconstructWithAdapterAndConsistency] era 0994 | epoch   2/  5 | loss=0.660879\n",
            "[MlpReconstructWithAdapterAndConsistency] era 0994 | epoch   3/  5 | loss=0.624820\n",
            "[MlpReconstructWithAdapterAndConsistency] era 0994 | epoch   4/  5 | loss=0.602000\n",
            "[MlpReconstructWithAdapterAndConsistency] era 0994 | epoch   5/  5 | loss=0.574523\n"
          ]
        }
      ]
    },
    {
      "cell_type": "code",
      "source": [
        "df_validation_preds = pd.DataFrame(\n",
        "    data = {\n",
        "        'era': [str(era).zfill(4) for era in used_valid_eras],\n",
        "        'target': valid_targets,\n",
        "        MODEL_NAME: valid_predictions\n",
        "    }\n",
        ").dropna()"
      ],
      "metadata": {
        "id": "JFxyx66VvSlB"
      },
      "execution_count": 73,
      "outputs": []
    },
    {
      "cell_type": "code",
      "source": [
        "df_validation_preds[MODEL_NAME].describe()"
      ],
      "metadata": {
        "id": "0aib3f5qJKSh",
        "colab": {
          "base_uri": "https://localhost:8080/",
          "height": 335
        },
        "outputId": "43738f7f-3d21-4dd1-b788-d8b9c72c249c"
      },
      "execution_count": 74,
      "outputs": [
        {
          "output_type": "execute_result",
          "data": {
            "text/plain": [
              "count    3680.000000\n",
              "mean       -0.540410\n",
              "std         3.643481\n",
              "min       -15.437500\n",
              "25%        -2.890625\n",
              "50%        -0.527344\n",
              "75%         1.892578\n",
              "max        10.437500\n",
              "Name: RANK_MLP_SMALL, dtype: float64"
            ],
            "text/html": [
              "<div>\n",
              "<style scoped>\n",
              "    .dataframe tbody tr th:only-of-type {\n",
              "        vertical-align: middle;\n",
              "    }\n",
              "\n",
              "    .dataframe tbody tr th {\n",
              "        vertical-align: top;\n",
              "    }\n",
              "\n",
              "    .dataframe thead th {\n",
              "        text-align: right;\n",
              "    }\n",
              "</style>\n",
              "<table border=\"1\" class=\"dataframe\">\n",
              "  <thead>\n",
              "    <tr style=\"text-align: right;\">\n",
              "      <th></th>\n",
              "      <th>RANK_MLP_SMALL</th>\n",
              "    </tr>\n",
              "  </thead>\n",
              "  <tbody>\n",
              "    <tr>\n",
              "      <th>count</th>\n",
              "      <td>3680.000000</td>\n",
              "    </tr>\n",
              "    <tr>\n",
              "      <th>mean</th>\n",
              "      <td>-0.540410</td>\n",
              "    </tr>\n",
              "    <tr>\n",
              "      <th>std</th>\n",
              "      <td>3.643481</td>\n",
              "    </tr>\n",
              "    <tr>\n",
              "      <th>min</th>\n",
              "      <td>-15.437500</td>\n",
              "    </tr>\n",
              "    <tr>\n",
              "      <th>25%</th>\n",
              "      <td>-2.890625</td>\n",
              "    </tr>\n",
              "    <tr>\n",
              "      <th>50%</th>\n",
              "      <td>-0.527344</td>\n",
              "    </tr>\n",
              "    <tr>\n",
              "      <th>75%</th>\n",
              "      <td>1.892578</td>\n",
              "    </tr>\n",
              "    <tr>\n",
              "      <th>max</th>\n",
              "      <td>10.437500</td>\n",
              "    </tr>\n",
              "  </tbody>\n",
              "</table>\n",
              "</div><br><label><b>dtype:</b> float64</label>"
            ]
          },
          "metadata": {},
          "execution_count": 74
        }
      ]
    },
    {
      "cell_type": "code",
      "source": [
        "sns.set(style=\"darkgrid\", context=\"talk\", palette=\"rainbow\", font_scale=.7)\n",
        "sns.histplot(data=df_validation_preds, x=MODEL_NAME, bins=200)\n",
        "\n",
        "# Customize the plot to match your original settings\n",
        "plt.title(\"Valid predictions\")\n",
        "plt.xlabel('Observation')   # Remove x-axis label\n",
        "plt.ylabel('')  # Optional: Set y-axis label\n",
        "plt.legend([], [], frameon=False)  # Remove legend\n",
        "plt.tight_layout()\n",
        "plt.show()"
      ],
      "metadata": {
        "colab": {
          "base_uri": "https://localhost:8080/",
          "height": 491
        },
        "id": "Bo26YqfpP1Nq",
        "outputId": "e0603246-4190-4230-ccd8-6b1c65bd1e18"
      },
      "execution_count": 78,
      "outputs": [
        {
          "output_type": "display_data",
          "data": {
            "text/plain": [
              "<Figure size 1000x500 with 1 Axes>"
            ],
            "image/png": "[encoded data removed]"
          },
          "metadata": {}
        }
      ]
    },
    {
      "cell_type": "code",
      "execution_count": 75,
      "metadata": {
        "id": "r9hlkxJyKh44",
        "colab": {
          "base_uri": "https://localhost:8080/",
          "height": 491
        },
        "outputId": "e89c26d5-c3d9-418f-9c10-2ecb0add096e"
      },
      "outputs": [
        {
          "output_type": "display_data",
          "data": {
            "text/plain": [
              "<Figure size 1000x500 with 1 Axes>"
            ],
            "image/png": "[encoded data removed]"
          },
          "metadata": {}
        }
      ],
      "source": [
        "# Compute the per-era corr between our predictions and the target values\n",
        "per_era_corr = df_validation_preds.groupby(\"era\").apply(\n",
        "    lambda x: numerai_corr(x[[MODEL_NAME]].dropna(), x['target'].dropna()),\n",
        "    include_groups=False\n",
        ")\n",
        "\n",
        "sns.set(style=\"darkgrid\", context=\"talk\", palette=\"rainbow\", font_scale=.7)\n",
        "sns.barplot(data=per_era_corr, x='era', y=MODEL_NAME)\n",
        "\n",
        "# Customize the plot to match your original settings\n",
        "plt.title(\"Validation CORR\")\n",
        "plt.xticks([])  # Remove x-tick labels\n",
        "plt.xlabel('era')   # Remove x-axis label\n",
        "plt.ylabel('')  # Optional: Set y-axis label\n",
        "plt.legend([], [], frameon=False)  # Remove legend\n",
        "plt.tight_layout()\n",
        "plt.show()"
      ]
    },
    {
      "cell_type": "code",
      "execution_count": 76,
      "metadata": {
        "id": "4btBvX0bKh46",
        "colab": {
          "base_uri": "https://localhost:8080/",
          "height": 491
        },
        "outputId": "e4584824-3e65-43a3-f787-2ccb1388aecd"
      },
      "outputs": [
        {
          "output_type": "display_data",
          "data": {
            "text/plain": [
              "<Figure size 1000x500 with 1 Axes>"
            ],
            "image/png": "[encoded data removed]"
          },
          "metadata": {}
        }
      ],
      "source": [
        "sns.set(style=\"darkgrid\", context=\"talk\", palette=\"rainbow\", font_scale=.7)\n",
        "sns.lineplot(data=per_era_corr.cumsum(), x='era', y=MODEL_NAME)\n",
        "\n",
        "# Customize the plot to match your original settings\n",
        "plt.title(\"Cumulative Validation CORR\")\n",
        "plt.xticks([])  # Remove x-tick labels\n",
        "plt.xlabel('era')   # Remove x-axis label\n",
        "plt.ylabel('')  # Optional: Set y-axis label\n",
        "plt.legend([], [], frameon=False)  # Remove legend\n",
        "plt.tight_layout()\n",
        "plt.show()"
      ]
    },
    {
      "cell_type": "code",
      "execution_count": 77,
      "metadata": {
        "id": "sn-jbD9GKh5C",
        "colab": {
          "base_uri": "https://localhost:8080/",
          "height": 175
        },
        "outputId": "3205efe9-7b00-4e3c-8601-e2ef83ec3ee2"
      },
      "outputs": [
        {
          "output_type": "execute_result",
          "data": {
            "text/plain": [
              "                  CORR\n",
              "mean          0.009025\n",
              "std           0.098708\n",
              "sharpe        0.091428\n",
              "max_drawdown  0.199224"
            ],
            "text/html": [
              "\n",
              "  <div id=\"df-dcf2c572-d417-4e86-9149-fcd77ea1cad4\" class=\"colab-df-container\">\n",
              "    <div>\n",
              "<style scoped>\n",
              "    .dataframe tbody tr th:only-of-type {\n",
              "        vertical-align: middle;\n",
              "    }\n",
              "\n",
              "    .dataframe tbody tr th {\n",
              "        vertical-align: top;\n",
              "    }\n",
              "\n",
              "    .dataframe thead th {\n",
              "        text-align: right;\n",
              "    }\n",
              "</style>\n",
              "<table border=\"1\" class=\"dataframe\">\n",
              "  <thead>\n",
              "    <tr style=\"text-align: right;\">\n",
              "      <th></th>\n",
              "      <th>CORR</th>\n",
              "    </tr>\n",
              "  </thead>\n",
              "  <tbody>\n",
              "    <tr>\n",
              "      <th>mean</th>\n",
              "      <td>0.009025</td>\n",
              "    </tr>\n",
              "    <tr>\n",
              "      <th>std</th>\n",
              "      <td>0.098708</td>\n",
              "    </tr>\n",
              "    <tr>\n",
              "      <th>sharpe</th>\n",
              "      <td>0.091428</td>\n",
              "    </tr>\n",
              "    <tr>\n",
              "      <th>max_drawdown</th>\n",
              "      <td>0.199224</td>\n",
              "    </tr>\n",
              "  </tbody>\n",
              "</table>\n",
              "</div>\n",
              "    <div class=\"colab-df-buttons\">\n",
              "\n",
              "  <div class=\"colab-df-container\">\n",
              "    <button class=\"colab-df-convert\" onclick=\"convertToInteractive('df-dcf2c572-d417-4e86-9149-fcd77ea1cad4')\"\n",
              "            title=\"Convert this dataframe to an interactive table.\"\n",
              "            style=\"display:none;\">\n",
              "\n",
              "  <svg xmlns=\"http://www.w3.org/2000/svg\" height=\"24px\" viewBox=\"0 -960 960 960\">\n",
              "    <path d=\"M120-120v-720h720v720H120Zm60-500h600v-160H180v160Zm220 220h160v-160H400v160Zm0 220h160v-160H400v160ZM180-400h160v-160H180v160Zm440 0h160v-160H620v160ZM180-180h160v-160H180v160Zm440 0h160v-160H620v160Z\"/>\n",
              "  </svg>\n",
              "    </button>\n",
              "\n",
              "  <style>\n",
              "    .colab-df-container {\n",
              "      display:flex;\n",
              "      gap: 12px;\n",
              "    }\n",
              "\n",
              "    .colab-df-convert {\n",
              "      background-color: #E8F0FE;\n",
              "      border: none;\n",
              "      border-radius: 50%;\n",
              "      cursor: pointer;\n",
              "      display: none;\n",
              "      fill: #1967D2;\n",
              "      height: 32px;\n",
              "      padding: 0 0 0 0;\n",
              "      width: 32px;\n",
              "    }\n",
              "\n",
              "    .colab-df-convert:hover {\n",
              "      background-color: #E2EBFA;\n",
              "      box-shadow: 0px 1px 2px rgba(60, 64, 67, 0.3), 0px 1px 3px 1px rgba(60, 64, 67, 0.15);\n",
              "      fill: #174EA6;\n",
              "    }\n",
              "\n",
              "    .colab-df-buttons div {\n",
              "      margin-bottom: 4px;\n",
              "    }\n",
              "\n",
              "    [theme=dark] .colab-df-convert {\n",
              "      background-color: #3B4455;\n",
              "      fill: #D2E3FC;\n",
              "    }\n",
              "\n",
              "    [theme=dark] .colab-df-convert:hover {\n",
              "      background-color: #434B5C;\n",
              "      box-shadow: 0px 1px 3px 1px rgba(0, 0, 0, 0.15);\n",
              "      filter: drop-shadow(0px 1px 2px rgba(0, 0, 0, 0.3));\n",
              "      fill: #FFFFFF;\n",
              "    }\n",
              "  </style>\n",
              "\n",
              "    <script>\n",
              "      const buttonEl =\n",
              "        document.querySelector('#df-dcf2c572-d417-4e86-9149-fcd77ea1cad4 button.colab-df-convert');\n",
              "      buttonEl.style.display =\n",
              "        google.colab.kernel.accessAllowed ? 'block' : 'none';\n",
              "\n",
              "      async function convertToInteractive(key) {\n",
              "        const element = document.querySelector('#df-dcf2c572-d417-4e86-9149-fcd77ea1cad4');\n",
              "        const dataTable =\n",
              "          await google.colab.kernel.invokeFunction('convertToInteractive',\n",
              "                                                    [key], {});\n",
              "        if (!dataTable) return;\n",
              "\n",
              "        const docLinkHtml = 'Like what you see? Visit the ' +\n",
              "          '<a target=\"_blank\" href=https://colab.research.google.com/notebooks/data_table.ipynb>data table notebook</a>'\n",
              "          + ' to learn more about interactive tables.';\n",
              "        element.innerHTML = '';\n",
              "        dataTable['output_type'] = 'display_data';\n",
              "        await google.colab.output.renderOutput(dataTable, element);\n",
              "        const docLink = document.createElement('div');\n",
              "        docLink.innerHTML = docLinkHtml;\n",
              "        element.appendChild(docLink);\n",
              "      }\n",
              "    </script>\n",
              "  </div>\n",
              "\n",
              "\n",
              "<div id=\"df-43083d09-e342-410c-93d4-6d8bbee27c7c\">\n",
              "  <button class=\"colab-df-quickchart\" onclick=\"quickchart('df-43083d09-e342-410c-93d4-6d8bbee27c7c')\"\n",
              "            title=\"Suggest charts\"\n",
              "            style=\"display:none;\">\n",
              "\n",
              "<svg xmlns=\"http://www.w3.org/2000/svg\" height=\"24px\"viewBox=\"0 0 24 24\"\n",
              "     width=\"24px\">\n",
              "    <g>\n",
              "        <path d=\"M19 3H5c-1.1 0-2 .9-2 2v14c0 1.1.9 2 2 2h14c1.1 0 2-.9 2-2V5c0-1.1-.9-2-2-2zM9 17H7v-7h2v7zm4 0h-2V7h2v10zm4 0h-2v-4h2v4z\"/>\n",
              "    </g>\n",
              "</svg>\n",
              "  </button>\n",
              "\n",
              "<style>\n",
              "  .colab-df-quickchart {\n",
              "      --bg-color: #E8F0FE;\n",
              "      --fill-color: #1967D2;\n",
              "      --hover-bg-color: #E2EBFA;\n",
              "      --hover-fill-color: #174EA6;\n",
              "      --disabled-fill-color: #AAA;\n",
              "      --disabled-bg-color: #DDD;\n",
              "  }\n",
              "\n",
              "  [theme=dark] .colab-df-quickchart {\n",
              "      --bg-color: #3B4455;\n",
              "      --fill-color: #D2E3FC;\n",
              "      --hover-bg-color: #434B5C;\n",
              "      --hover-fill-color: #FFFFFF;\n",
              "      --disabled-bg-color: #3B4455;\n",
              "      --disabled-fill-color: #666;\n",
              "  }\n",
              "\n",
              "  .colab-df-quickchart {\n",
              "    background-color: var(--bg-color);\n",
              "    border: none;\n",
              "    border-radius: 50%;\n",
              "    cursor: pointer;\n",
              "    display: none;\n",
              "    fill: var(--fill-color);\n",
              "    height: 32px;\n",
              "    padding: 0;\n",
              "    width: 32px;\n",
              "  }\n",
              "\n",
              "  .colab-df-quickchart:hover {\n",
              "    background-color: var(--hover-bg-color);\n",
              "    box-shadow: 0 1px 2px rgba(60, 64, 67, 0.3), 0 1px 3px 1px rgba(60, 64, 67, 0.15);\n",
              "    fill: var(--button-hover-fill-color);\n",
              "  }\n",
              "\n",
              "  .colab-df-quickchart-complete:disabled,\n",
              "  .colab-df-quickchart-complete:disabled:hover {\n",
              "    background-color: var(--disabled-bg-color);\n",
              "    fill: var(--disabled-fill-color);\n",
              "    box-shadow: none;\n",
              "  }\n",
              "\n",
              "  .colab-df-spinner {\n",
              "    border: 2px solid var(--fill-color);\n",
              "    border-color: transparent;\n",
              "    border-bottom-color: var(--fill-color);\n",
              "    animation:\n",
              "      spin 1s steps(1) infinite;\n",
              "  }\n",
              "\n",
              "  @keyframes spin {\n",
              "    0% {\n",
              "      border-color: transparent;\n",
              "      border-bottom-color: var(--fill-color);\n",
              "      border-left-color: var(--fill-color);\n",
              "    }\n",
              "    20% {\n",
              "      border-color: transparent;\n",
              "      border-left-color: var(--fill-color);\n",
              "      border-top-color: var(--fill-color);\n",
              "    }\n",
              "    30% {\n",
              "      border-color: transparent;\n",
              "      border-left-color: var(--fill-color);\n",
              "      border-top-color: var(--fill-color);\n",
              "      border-right-color: var(--fill-color);\n",
              "    }\n",
              "    40% {\n",
              "      border-color: transparent;\n",
              "      border-right-color: var(--fill-color);\n",
              "      border-top-color: var(--fill-color);\n",
              "    }\n",
              "    60% {\n",
              "      border-color: transparent;\n",
              "      border-right-color: var(--fill-color);\n",
              "    }\n",
              "    80% {\n",
              "      border-color: transparent;\n",
              "      border-right-color: var(--fill-color);\n",
              "      border-bottom-color: var(--fill-color);\n",
              "    }\n",
              "    90% {\n",
              "      border-color: transparent;\n",
              "      border-bottom-color: var(--fill-color);\n",
              "    }\n",
              "  }\n",
              "</style>\n",
              "\n",
              "  <script>\n",
              "    async function quickchart(key) {\n",
              "      const quickchartButtonEl =\n",
              "        document.querySelector('#' + key + ' button');\n",
              "      quickchartButtonEl.disabled = true;  // To prevent multiple clicks.\n",
              "      quickchartButtonEl.classList.add('colab-df-spinner');\n",
              "      try {\n",
              "        const charts = await google.colab.kernel.invokeFunction(\n",
              "            'suggestCharts', [key], {});\n",
              "      } catch (error) {\n",
              "        console.error('Error during call to suggestCharts:', error);\n",
              "      }\n",
              "      quickchartButtonEl.classList.remove('colab-df-spinner');\n",
              "      quickchartButtonEl.classList.add('colab-df-quickchart-complete');\n",
              "    }\n",
              "    (() => {\n",
              "      let quickchartButtonEl =\n",
              "        document.querySelector('#df-43083d09-e342-410c-93d4-6d8bbee27c7c button');\n",
              "      quickchartButtonEl.style.display =\n",
              "        google.colab.kernel.accessAllowed ? 'block' : 'none';\n",
              "    })();\n",
              "  </script>\n",
              "</div>\n",
              "\n",
              "    </div>\n",
              "  </div>\n"
            ],
            "application/vnd.google.colaboratory.intrinsic+json": {
              "type": "dataframe",
              "summary": "{\n  \"name\": \"}, index=[\\\"CORR\\\"])\",\n  \"rows\": 4,\n  \"fields\": [\n    {\n      \"column\": \"CORR\",\n      \"properties\": {\n        \"dtype\": \"number\",\n        \"std\": 0.07788092158726696,\n        \"min\": 0.009024672494681158,\n        \"max\": 0.1992235539334859,\n        \"num_unique_values\": 4,\n        \"samples\": [\n          0.09870753471663513,\n          0.1992235539334859,\n          0.009024672494681158\n        ],\n        \"semantic_type\": \"\",\n        \"description\": \"\"\n      }\n    }\n  ]\n}"
            }
          },
          "metadata": {},
          "execution_count": 77
        }
      ],
      "source": [
        "# Compute performance metrics\n",
        "corr_mean = per_era_corr.mean()\n",
        "corr_std = per_era_corr.std(ddof=0)\n",
        "corr_sharpe = corr_mean / corr_std\n",
        "corr_max_drawdown = (per_era_corr.cumsum().expanding(min_periods=1).max() - per_era_corr.cumsum()).max()\n",
        "\n",
        "pd.DataFrame({\n",
        "    \"mean\": [corr_mean.values[0]],\n",
        "    \"std\": [corr_std.values[0]],\n",
        "    \"sharpe\": [corr_sharpe.values[0]],\n",
        "    \"max_drawdown\": [corr_max_drawdown.values[0]]\n",
        "}, index=[\"CORR\"]).T"
      ]
    },
    {
      "cell_type": "code",
      "source": [],
      "metadata": {
        "id": "SyJ1WHeFel1z"
      },
      "execution_count": 77,
      "outputs": []
    }
  ]
}